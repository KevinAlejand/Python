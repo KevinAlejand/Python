{
  "nbformat": 4,
  "nbformat_minor": 0,
  "metadata": {
    "colab": {
      "provenance": [],
      "authorship_tag": "ABX9TyMI1wn9VPA61eJPUbT2DU0m",
      "include_colab_link": true
    },
    "kernelspec": {
      "name": "python3",
      "display_name": "Python 3"
    },
    "language_info": {
      "name": "python"
    }
  },
  "cells": [
    {
      "cell_type": "markdown",
      "metadata": {
        "id": "view-in-github",
        "colab_type": "text"
      },
      "source": [
        "<a href=\"https://colab.research.google.com/github/KevinAlejand/Python/blob/main/KASC_act3.ipynb\" target=\"_parent\"><img src=\"https://colab.research.google.com/assets/colab-badge.svg\" alt=\"Open In Colab\"/></a>"
      ]
    },
    {
      "cell_type": "markdown",
      "source": [
        "# ACTIVIDAD 3"
      ],
      "metadata": {
        "id": "GTBSw_29ftY4"
      }
    },
    {
      "cell_type": "markdown",
      "source": [
        "1.- Algoritmo que lea 3 calificaciones calcule el promedio del alumno y desplegar:\n",
        "\n",
        "Si prom < 30 Repetir\n",
        "\n",
        "Si prom >=30 y prom <60 extraordinario\n",
        "\n",
        "Si prom >=60 y prom <70 suficiente\n",
        "\n",
        "Si prom >=70 y prom <80 Regular\n",
        "\n",
        "Si prom >=80 y prom <90 bien\n",
        "\n",
        "Si prom >=90 y prom <98 muy bien\n",
        "\n",
        "Si prom >=98 y prom <=100 excelente\n",
        "\n",
        "Si prom >100 Error en promedio"
      ],
      "metadata": {
        "id": "SfedOX4tb_kz"
      }
    },
    {
      "cell_type": "code",
      "execution_count": null,
      "metadata": {
        "colab": {
          "base_uri": "https://localhost:8080/"
        },
        "id": "tkA8JIW5b7wC",
        "outputId": "d64ef824-95f7-4f72-b22f-fd117bb3de35"
      },
      "outputs": [
        {
          "output_type": "stream",
          "name": "stdout",
          "text": [
            "Digite calificacion 1: 100\n",
            "Digite calificacion 2: 100\n",
            "Digite calificacion 3: 100\n",
            "EXCELENTE\n"
          ]
        }
      ],
      "source": [
        "cal1 = int(input(\"Digite calificacion 1: \"))\n",
        "cal2 = int(input(\"Digite calificacion 2: \"))\n",
        "cal3 = int(input(\"Digite calificacion 3: \"))\n",
        "\n",
        "prom = (cal1 + cal2 + cal3)/3\n",
        "if (prom > 100):\n",
        "    print(\"ERROR\")\n",
        "\n",
        "elif (prom >=30 and prom <=60 ):\n",
        " print(\"EXTRAORDINARIO\")\n",
        "\n",
        "elif (prom >=60 and prom <=70):\n",
        " print(\"SUFICIENTE\")\n",
        "\n",
        "elif (prom >=70 and prom<=80) :\n",
        " print(\"REGULAR\")\n",
        "\n",
        "elif (prom >=80 and prom<=90) :\n",
        "    print(\"BIEN\")\n",
        "\n",
        "elif (prom >=90 and prom <=98 ):\n",
        "    print(\"MUY BIEN\")\n",
        "\n",
        "elif (prom >=90 and prom <=100) :\n",
        "    print(\"EXCELENTE\")\n",
        "else:\n",
        "    print(\"REPETIR\")"
      ]
    },
    {
      "cell_type": "markdown",
      "source": [
        "2.- Algoritmo que sirva para calcular el salario semanal de un trabajador donde se obtiene como dato de entrada las horas semanales trabajadas, el salario por hora.\n",
        "\n",
        "El programa deberá calcular el salario normal, salario extra y salario total, considerando lo siguiente:\n",
        "\n",
        "Jornada Normal de 40 horas.\n",
        "El salario normal se considera las horas trabajadas menores o igual a la jornada normal\n",
        "Salario extra se considera las horas trabajadas mayores a la jornada normal y se pagan dobles las primeras 9 y triples a partir de la décima hora extra\n",
        "**Nota: Desplegar todos los datos (Salario x hora, Horas Trabajadas, Salario normal, Salario extra y Salario Total)**"
      ],
      "metadata": {
        "id": "ceJhW9j0fr3_"
      }
    },
    {
      "cell_type": "code",
      "source": [
        "h = int(input(\"Digite las horas semanales trabajadas: \"))\n",
        "sxh = int(input(\"Digite su salario por hora: \"))\n",
        "\n",
        "jn = 40\n",
        "sn = h * sxh\n",
        "se2 = (h - 49) * sxh * 3\n",
        "\n",
        "if (h > 40 and h <=49):\n",
        "    se = (h - jn) *  sxh * 2\n",
        "    st = sn + se\n",
        "elif (h > 50):\n",
        "    se = (h - 49) * sxh * 3\n",
        "    st = sn + se\n",
        "\n",
        "print(f\"SU SALARIO POR HORA ES: {sxh} \")\n",
        "print(f\"LAS HORAS TRABAJADAS SON: {h}\")\n",
        "print(f\"SU SALARIO NORMAL ES: {sn}\")\n",
        "print(f\"SU SALARIO EXTRA ES: {se}: \")\n",
        "print(f\"SU SALARIO TOTAL ES: : {st}\")"
      ],
      "metadata": {
        "id": "Lhg2SWpJdEIE",
        "colab": {
          "base_uri": "https://localhost:8080/"
        },
        "outputId": "28528067-412e-4c3d-885f-e159dc8b8c80"
      },
      "execution_count": null,
      "outputs": [
        {
          "output_type": "stream",
          "name": "stdout",
          "text": [
            "Digite las horas semanales trabajadas: 51\n",
            "Digite su salario por hora: 10\n",
            "SU SALARIO POR HORA ES: 10 \n",
            "LAS HORAS TRABAJADAS SON: 51\n",
            "SU SALARIO NORMAL ES: 510\n",
            "SU SALARIO EXTRA ES: 60: \n",
            "SU SALARIO TOTAL ES: : 570\n"
          ]
        }
      ]
    },
    {
      "cell_type": "markdown",
      "source": [
        "3.- Algoritmo que sirva para desplegar el Total de una llamada telefónica donde se pide como datos de entrada los minutos y el tipo de llamada, se cobra de la siguiente manera:\n",
        "\n",
        "1.- Llamada Local $3.00 sin límite de tiempo\n",
        "\n",
        "2.- Llamada Nacional $7.00 por los 3 primeros minutos y $2.00 minuto adicional\n",
        "\n",
        "3.- Llamada Internacional $9.00 por los 2 primeros minutos y $4.00 minuto adicional\n",
        "\n",
        " Desplegar, Subtotal,Iva (16%) y Total.\n",
        "\n"
      ],
      "metadata": {
        "id": "5CkU6sRAiDgb"
      }
    },
    {
      "cell_type": "code",
      "source": [
        "tl = int(input(\"Ingrese el tipo de llamada \\n1:Local \\n2:Nacional \\n3:Internacional \\n \"))\n",
        "minutos = int(input(\"Ingrese la cantidad de minutos de la llamada:\"))\n",
        "\n",
        "if tl == 1:\n",
        "    costo = 3.00\n",
        "elif tl == 2:\n",
        "    costo = 7.00 + max(0, minutos - 3) * 2.00\n",
        "elif tl == 3:\n",
        "    costo = 9.00 + max(0, minutos - 2) * 4.00\n",
        "\n",
        "st = costo\n",
        "iva = st * 0.16\n",
        "total = st + iva\n",
        "\n",
        "print(\"\\nSubtotal: $\", st)\n",
        "print(\"IVA (16%): $\", iva)\n",
        "print(\"Total: $\", total)"
      ],
      "metadata": {
        "id": "dTwyiE8eiE0l",
        "colab": {
          "base_uri": "https://localhost:8080/"
        },
        "outputId": "97225624-1260-4839-a10e-7eab3dc33699"
      },
      "execution_count": null,
      "outputs": [
        {
          "output_type": "stream",
          "name": "stdout",
          "text": [
            "Ingrese el tipo de llamada \n",
            "1:Local \n",
            "2:Nacional \n",
            "3:Internacional \n",
            " 2\n",
            "Ingrese la cantidad de minutos de la llamada:10\n",
            "\n",
            "Subtotal: $ 21.0\n",
            "IVA (16%): $ 3.36\n",
            "Total: $ 24.36\n"
          ]
        }
      ]
    },
    {
      "cell_type": "markdown",
      "source": [
        "\n",
        "4.- Algoritmo que sirva para calcular el Total a pagar por consumo de agua, donde el dato de entrada son los M3 de agua consumidos, Tomar en cuenta que se cobra escalonada de la Siguiente manera:\n",
        "\n",
        "Rango1: 0 al 4 M3 $50 x facturación sin importar cuánto consumió en este rango\n",
        "\n",
        "Rango2: 5 a 15 M3 $8.00 x M3\n",
        "\n",
        "Rango3: 16 a 50 M3 $10.00 x M3\n",
        "\n",
        "Rango4: 51 M3 en adelante $11.00 x M3\n",
        "\n",
        "Nota: Desplegar SubTotal, Iva(16%), y Total a pagar."
      ],
      "metadata": {
        "id": "xRHBOvl7iHPa"
      }
    },
    {
      "cell_type": "code",
      "source": [
        "m3cons = float(input(\"Ingrese la cantidad de M3 de agua consumidos: \"))\n",
        "\n",
        "if m3cons <= 4:\n",
        "    st = 50\n",
        "elif m3cons <= 15:\n",
        "    st = 50 + (m3cons - 4) * 8\n",
        "elif m3cons <= 50:\n",
        "    st = 50 + (15 - 4) * 8 + (m3cons - 15) * 10\n",
        "else:\n",
        "    st = 50 + (15 - 4) * 8 + (50 - 15) * 10 + (m3cons - 50) * 11\n",
        "\n",
        "iva = st * 0.16\n",
        "t = st + iva\n",
        "\n",
        "print(\"\\nSubtotal: $\", st)\n",
        "print(\"IVA (16%): $\", iva)\n",
        "print(\"Total a pagar: $\", t)"
      ],
      "metadata": {
        "id": "zf5YlV5ZiLQW",
        "colab": {
          "base_uri": "https://localhost:8080/"
        },
        "outputId": "27035577-402f-42ad-a9d8-05187878b1d7"
      },
      "execution_count": null,
      "outputs": [
        {
          "output_type": "stream",
          "name": "stdout",
          "text": [
            "Ingrese la cantidad de M3 de agua consumidos: 15\n",
            "\n",
            "Subtotal: $ 138.0\n",
            "IVA (16%): $ 22.080000000000002\n",
            "Total a pagar: $ 160.08\n"
          ]
        }
      ]
    },
    {
      "cell_type": "markdown",
      "source": [
        "5- En la materia de Metodología de la programación se aplican 5 exámenes, calcular el promedio final de la materia donde la calificación menor de los exámenes se anula y el promedio se calcula en base a 4 exámenes.\n",
        "\n",
        "Desplegar el promedio final."
      ],
      "metadata": {
        "id": "UIjmUtZziKtB"
      }
    },
    {
      "cell_type": "code",
      "source": [
        "cal1 = float(input(\"Ingrese la calificación del examen 1: \"))\n",
        "cal2 = float(input(\"Ingrese la calificación del examen 2: \"))\n",
        "cal3 = float(input(\"Ingrese la calificación del examen 3: \"))\n",
        "cal4 = float(input(\"Ingrese la calificación del examen 4: \"))\n",
        "cal5 = float(input(\"Ingrese la calificación del examen 5: \"))\n",
        "\n",
        "\n",
        "cals = [cal1, cal2, cal3, cal4, cal5]\n",
        "\n",
        "calm = min(cals)\n",
        "\n",
        "promf = ((cal1 + cal2 + cal3 + cal4 +cal5) - calm) / 4\n",
        "\n",
        "print(\"\\nEl promedio final de la materia es:\", promf)"
      ],
      "metadata": {
        "colab": {
          "base_uri": "https://localhost:8080/"
        },
        "id": "3OFOR5EmUdfd",
        "outputId": "7819e4b8-a572-44d9-ced8-0eb4add8d1fd"
      },
      "execution_count": null,
      "outputs": [
        {
          "output_type": "stream",
          "name": "stdout",
          "text": [
            "Ingrese la calificación del examen 1: 100\n",
            "Ingrese la calificación del examen 2: 100\n",
            "Ingrese la calificación del examen 3: 100\n",
            "Ingrese la calificación del examen 4: 100\n",
            "Ingrese la calificación del examen 5: 40\n",
            "\n",
            "El promedio final de la materia es: 100.0\n"
          ]
        }
      ]
    },
    {
      "cell_type": "markdown",
      "source": [
        "6.- Algoritmo que sirva para el juego del CHINCHAMPU (Piedra, Papel, Tijera) para 1 jugador y la computadora, (usar condición anidada)"
      ],
      "metadata": {
        "id": "mcF1OVR7iQK9"
      }
    },
    {
      "cell_type": "code",
      "source": [
        "import random\n",
        "\n",
        "opc = [\"Piedra\", \"Papel\", \"Tijera\"]\n",
        "opcj = input(\"Elige Piedra, Papel o Tijera: \").capitalize()\n",
        "\n",
        "opcM = random.choice(opc)\n",
        "print(f\"\\nJugador: {opcj}\")\n",
        "print(f\"Computadora: {opcM}\\n\")\n",
        "\n",
        "\n",
        "if opcj == opcM:\n",
        "    print(\"EMPATE\")\n",
        "elif (opcj == \"Piedra\" and opcM == \"Tijera\") or \\\n",
        "     (opcj == \"Papel\" and opcM == \"Piedra\") or \\\n",
        "     (opcj == \"Tijera\" and opcM == \"Papel\"):\n",
        "    print(\"GANASTE\")\n",
        "else:\n",
        "    print(\"PERDISTE\")"
      ],
      "metadata": {
        "id": "jvv5dCgtiQkx",
        "colab": {
          "base_uri": "https://localhost:8080/"
        },
        "outputId": "525e5c31-754e-40b6-aba4-877c80a94980"
      },
      "execution_count": null,
      "outputs": [
        {
          "output_type": "stream",
          "name": "stdout",
          "text": [
            "Elige Piedra, Papel o Tijera: TIJERA\n",
            "\n",
            "Jugador: Tijera\n",
            "Computadora: Tijera\n",
            "\n",
            "EMPATE\n"
          ]
        }
      ]
    },
    {
      "cell_type": "markdown",
      "source": [
        "7.- Algoritmo que sirva para el juego del CHINCHAMPU (Piedra, Papel, Tijera) para 1 jugador y la computadora, (usar selección múltiple)"
      ],
      "metadata": {
        "id": "nXf9bgPOiTyd"
      }
    },
    {
      "cell_type": "code",
      "source": [
        "import random\n",
        "print(\"Bienvenido al juego del CHINCHAMPU (Piedra, Papel, Tijera)!\\n\")\n",
        "print(\"1. Piedra\")\n",
        "print(\"2. Papel\")\n",
        "print(\"3. Tijera\")\n",
        "print(\"4. Salir\")\n",
        "\n",
        "opc = int(input(\"\\nElige una opción: \"))\n",
        "\n",
        "if opc == 4:\n",
        "    print(\"GRACIAS POR JUGAR\")\n",
        "else:\n",
        "    if opc not in [1, 2, 3]:\n",
        "        print(\"DIGITE OPCION VALIDA\")\n",
        "    else:\n",
        "        opcs = [\"Piedra\", \"Papel\", \"Tijera\"]\n",
        "        opcion_jugador = opcs[opc - 1]\n",
        "        opcion_computadora = random.choice(opcs)\n",
        "\n",
        "        print(f\"\\nJugador: {opcj}\")\n",
        "        print(f\"Computadora: {opcM}\\n\")\n",
        "\n",
        "        if opcj == opcM:\n",
        "            print(\"EMPATE\")\n",
        "        elif (opcj, opcM) in [(\"Piedra\", \"Tijera\"), (\"Papel\", \"Piedra\"), (\"Tijera\", \"Papel\")]:\n",
        "            print(\"GANASTE\")\n",
        "        else:\n",
        "            print(\"PERDISTE\")"
      ],
      "metadata": {
        "id": "CE87Na2piUEa",
        "colab": {
          "base_uri": "https://localhost:8080/"
        },
        "outputId": "a82093f2-780a-40b7-9c86-f27aa6adba23"
      },
      "execution_count": null,
      "outputs": [
        {
          "output_type": "stream",
          "name": "stdout",
          "text": [
            "Bienvenido al juego del CHINCHAMPU (Piedra, Papel, Tijera)!\n",
            "\n",
            "1. Piedra\n",
            "2. Papel\n",
            "3. Tijera\n",
            "4. Salir\n",
            "\n",
            "Elige una opción: 2\n",
            "\n",
            "Jugador: Tijera\n",
            "Computadora: Tijera\n",
            "\n",
            "¡Empate!\n"
          ]
        }
      ]
    },
    {
      "cell_type": "markdown",
      "source": [
        "8.- Una tienda de electrónica ofrece descuentos a sus clientes, dependiendo del tipo de producto que compren. Si el cliente compra una computadora, tiene un descuento del 5% en el precio de la computadora y un 10% de descuento en una impresora si la compra junto con la computadora. Si el cliente compra una televisión, tiene un descuento del 7% en el precio de la televisión y un 15% de descuento en una barra de sonido si la compra junto con la televisión. Si el cliente compra una consola de videojuegos, tiene un descuento del 10% en el precio de la consola y un 20% de descuento en un juego si lo compra junto con la consola. Escribe un programa que calcule el precio a pagar por un cliente, tomando en cuenta los descuentos correspondientes."
      ],
      "metadata": {
        "id": "A5y9Ot9oiXv5"
      }
    },
    {
      "cell_type": "code",
      "source": [
        "prod = input(\"¿Qué producto compró? (computadora, televisión, consola de videojuegos): \").lower()\n",
        "precB = float(input(\"Ingrese el precio base del producto: \"))\n",
        "\n",
        "if prod == \"computadora\":\n",
        "    des = 0.05 * precB\n",
        "    res = input(\"¿Desea agregar algún accesorio? (impresora) (s/n): \").lower()\n",
        "    if res == \"s\":\n",
        "        precB -= des\n",
        "        des += 0.10 * precB\n",
        "\n",
        "elif prod == \"television\":\n",
        "    des = 0.07 * precB\n",
        "    res = input(\"¿Desea agregar algún accesorio? (barra de sonido) (s/n): \").lower()\n",
        "    if res == \"s\":\n",
        "        precB -= des\n",
        "        des += 0.15 * precB\n",
        "\n",
        "elif prod == \"consola de videojuegos\":\n",
        "    des = 0.10 * precB\n",
        "    res = input(\"¿Desea agregar algún accesorio? (juego) (s/n): \").lower()\n",
        "    if res == \"s\":\n",
        "        precB -= des\n",
        "        des += 0.20 * precB\n",
        "\n",
        "else:\n",
        "    print(\"Producto no válido.\")\n",
        "    des = 0\n",
        "\n",
        "precF = precB - des\n",
        "print(f\"Total a pagar es: ${precF:.2f}\")"
      ],
      "metadata": {
        "id": "oxvYzHRXukie",
        "colab": {
          "base_uri": "https://localhost:8080/"
        },
        "outputId": "2946b478-55fa-426f-fa37-8e94a591c76e"
      },
      "execution_count": null,
      "outputs": [
        {
          "output_type": "stream",
          "name": "stdout",
          "text": [
            "¿Qué producto compró? (computadora, televisión, consola de videojuegos): television\n",
            "Ingrese el precio base del producto: 100\n",
            "¿Desea agregar algún accesorio? (barra de sonido) (s/n): s\n",
            "Total a pagar es: $72.05\n"
          ]
        }
      ]
    },
    {
      "cell_type": "markdown",
      "source": [
        "9.- En una tienda de ropa, los precios de los productos cambian dependiendo de la temporada. Durante la temporada de verano, todos los productos tienen un descuento del 20%. Durante la temporada de invierno, los productos con etiqueta roja tienen un descuento del 30% y los productos con etiqueta verde tienen un descuento del 15%. Durante la temporada de primavera y otoño, los productos con etiqueta amarilla tienen un descuento del 10%. Escribe un programa que calcule el precio a pagar por un cliente, tomando en cuenta los descuentos correspondientes.\n",
        "\n",
        "\n",
        "\n"
      ],
      "metadata": {
        "id": "O2nfC47Wic-1"
      }
    },
    {
      "cell_type": "code",
      "source": [
        "temp = input(\"Ingrese la temporada (verano, invierno, primavera u otoño): \").lower()\n",
        "etiqueta = input(\"Ingrese el color de etiqueta del producto (roja, verde, amarilla): \").lower()\n",
        "precB = float(input(\"Ingrese el precio base del producto: \"))\n",
        "\n",
        "des = 0\n",
        "\n",
        "if temp == \"verano\":\n",
        "    des = 0.20 * precB\n",
        "elif temp == \"invierno\":\n",
        "    if etiqueta == \"roja\":\n",
        "        des = 0.30 * precB\n",
        "    elif etiqueta == \"verde\":\n",
        "        des = 0.15 * precB\n",
        "elif temp == \"primavera\" or temp == \"otoño\":\n",
        "    if etiqueta == \"amarilla\":\n",
        "        des = 0.10 * precB\n",
        "\n",
        "precF = precB - des\n",
        "print(f\"El precio a pagar es: ${precF:.2f}\")"
      ],
      "metadata": {
        "id": "YsT2L-jUiYK9",
        "colab": {
          "base_uri": "https://localhost:8080/"
        },
        "outputId": "2dbf5032-d502-431c-aee7-0bc0f67d5973"
      },
      "execution_count": null,
      "outputs": [
        {
          "output_type": "stream",
          "name": "stdout",
          "text": [
            "Ingrese la temporada (verano, invierno, primavera u otoño): verano\n",
            "Ingrese el color de etiqueta del producto (roja, verde, amarilla): roja\n",
            "Ingrese el precio base del producto: 100\n",
            "El precio a pagar es: $80.00\n"
          ]
        }
      ]
    },
    {
      "cell_type": "markdown",
      "source": [
        "10.- Un restaurante ofrece descuentos a sus clientes, dependiendo del día de la semana y del tipo de menú que pidan. Los lunes, los clientes que pidan el menú del día tienen un descuento del 10%. Los martes, los clientes que pidan el menú infantil tienen un descuento del 20%. Los miércoles, los clientes que pidan el menú vegetariano tienen un descuento del 15%. Los jueves, los clientes que pidan el menú del chef tienen un descuento del 5%. Los viernes, los clientes que pidan el menú del día tienen un descuento del 5%. Los sábados y domingos no hay descuentos. Escribe un programa que calcule el precio a pagar por un cliente, tomando en cuenta los descuentos correspondientes."
      ],
      "metadata": {
        "id": "1hiUOSAGis0X"
      }
    },
    {
      "cell_type": "code",
      "source": [
        "dsem = input(\"Ingrese el día de la semana (lunes, martes, miércoles, jueves, viernes, sábado o domingo): \").lower()\n",
        "tipM = input(\"Ingrese el tipo de menú que pidió (menú del día, menú infantil, menú vegetariano, menú del chef): \").lower()\n",
        "precB = float(input(\"Ingrese el precio base del menú: \"))\n",
        "\n",
        "des = 0\n",
        "\n",
        "if dsem == \"lunes\" and tipM == \"menu del dia\":\n",
        "    des = 0.10 * precB\n",
        "elif dsem == \"martes\" and tipM == \"menu infantil\":\n",
        "    des = 0.20 * precB\n",
        "elif dsem == \"miercoles\" and tipM == \"menu vegetariano\":\n",
        "    des = 0.15 * precB\n",
        "elif dsem == \"jueves\" and tipM == \"menu del chef\":\n",
        "    des = 0.05 * precB\n",
        "elif dsem == \"viernes\" and tipM == \"menu del dia\":\n",
        "    des = 0.05 * precB\n",
        "\n",
        "precF = precB - des\n",
        "print(f\"El precio a pagar es: ${precF:.2f}\")"
      ],
      "metadata": {
        "id": "4_ngc5Qlt6so",
        "colab": {
          "base_uri": "https://localhost:8080/"
        },
        "outputId": "93a5611a-e2af-4133-d3fb-0b8051261b98"
      },
      "execution_count": null,
      "outputs": [
        {
          "output_type": "stream",
          "name": "stdout",
          "text": [
            "Ingrese el día de la semana (lunes, martes, miércoles, jueves, viernes, sábado o domingo): viernes\n",
            "Ingrese el tipo de menú que pidió (menú del día, menú infantil, menú vegetariano, menú del chef): menu del dia\n",
            "Ingrese el precio base del menú: 100\n",
            "El precio a pagar es: $95.00\n"
          ]
        }
      ]
    }
  ]
}