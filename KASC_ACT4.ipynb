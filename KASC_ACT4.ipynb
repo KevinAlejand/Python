{
  "nbformat": 4,
  "nbformat_minor": 0,
  "metadata": {
    "colab": {
      "provenance": [],
      "authorship_tag": "ABX9TyOkZC5Gj6ta013b3iAJGxKO",
      "include_colab_link": true
    },
    "kernelspec": {
      "name": "python3",
      "display_name": "Python 3"
    },
    "language_info": {
      "name": "python"
    }
  },
  "cells": [
    {
      "cell_type": "markdown",
      "metadata": {
        "id": "view-in-github",
        "colab_type": "text"
      },
      "source": [
        "<a href=\"https://colab.research.google.com/github/KevinAlejand/Python/blob/main/KASC_ACT4.ipynb\" target=\"_parent\"><img src=\"https://colab.research.google.com/assets/colab-badge.svg\" alt=\"Open In Colab\"/></a>"
      ]
    },
    {
      "cell_type": "markdown",
      "source": [
        "# ACTIVIDAD 4"
      ],
      "metadata": {
        "id": "mWLn8QKtfNam"
      }
    },
    {
      "cell_type": "markdown",
      "source": [
        "1.- Programa en python   que lea 3 calificaciones calcule el promedio del alumno y desplegar:\n",
        "\n",
        "Si prom < 30 Repetir\n",
        "\n",
        "Si prom >=30 y prom <60 extraordinario\n",
        "\n",
        "Si prom >=60 y prom <70 suficiente\n",
        "\n",
        "Si prom >=70 y prom <80 Regular\n",
        "\n",
        "Si prom >=80 y prom <90 bien\n",
        "\n",
        "Si prom >=90 y prom <98 muy bien\n",
        "\n",
        "Si prom >=98 y prom <=100 excelente\n",
        "\n",
        "Si prom >100 Error en promedio"
      ],
      "metadata": {
        "id": "ymnkjkPafTgA"
      }
    },
    {
      "cell_type": "code",
      "execution_count": 2,
      "metadata": {
        "colab": {
          "base_uri": "https://localhost:8080/"
        },
        "id": "l1t0Os2qfIxE",
        "outputId": "b34c86c9-36e6-4e95-e63b-3febb881ef8e"
      },
      "outputs": [
        {
          "output_type": "stream",
          "name": "stdout",
          "text": [
            "Digite calificacion 1: 100\n",
            "Digite calificacion 2: 100\n",
            "Digite calificacion 3: 100\n",
            "Excelente\n"
          ]
        }
      ],
      "source": [
        "try:\n",
        "    cal1 = int(input(\"Digite calificacion 1: \"))\n",
        "    cal2 = int(input(\"Digite calificacion 2: \"))\n",
        "    cal3 = int(input(\"Digite calificacion 3: \"))\n",
        "\n",
        "    prom = (cal1 + cal2 + cal3) / 3\n",
        "\n",
        "    if prom > 100:\n",
        "        print(\"Error en promedio\")\n",
        "    elif prom >= 98:\n",
        "        print(\"Excelente\")\n",
        "    elif prom >= 90:\n",
        "        print(\"Muy bien\")\n",
        "    elif prom >= 80:\n",
        "        print(\"Bien\")\n",
        "    elif prom >= 70:\n",
        "        print(\"Regular\")\n",
        "    elif prom >= 60:\n",
        "        print(\"Suficiente\")\n",
        "    elif prom >= 30:\n",
        "        print(\"Extraordinario\")\n",
        "    else:\n",
        "        print(\"Repetir\")\n",
        "except ValueError:\n",
        "    print(\"Error: Ingrese solo números enteros.\")"
      ]
    },
    {
      "cell_type": "markdown",
      "source": [
        "2.- Programa en Python que sirva para calcular el salario semanal de un trabajador donde se obtiene como dato de entrada las horas semanales trabajadas, el salario por hora.\n",
        "\n",
        "El programa deberá calcular el salario normal, salario extra y salario total, considerando lo siguiente:\n",
        "\n",
        "Jornada Normal de 40 horas.\n",
        "El salario normal se considera las horas trabajadas menores o igual a la jornada normal\n",
        "Salario extra se considera las horas trabajadas mayores a la jornada normal y se pagan dobles las primeras 9 y triples a partir de la décima hora extra\n",
        "\n"
      ],
      "metadata": {
        "id": "DMvV9CBOfN6n"
      }
    },
    {
      "cell_type": "code",
      "source": [
        "try:\n",
        "    h = int(input(\"Digite las horas semanales trabajadas: \"))\n",
        "    sxh = int(input(\"Digite su salario por hora: \"))\n",
        "\n",
        "    jn = 40\n",
        "    sn = h * sxh\n",
        "    se = 0\n",
        "\n",
        "    if h > 40:\n",
        "        if h <= 49:\n",
        "            se = (h - jn) * sxh * 2\n",
        "        elif h > 49:\n",
        "            se = (h - 49) * sxh * 3 + (9 * sxh * 2)\n",
        "\n",
        "    st = sn + se\n",
        "\n",
        "    print(f\"SU SALARIO POR HORA ES: {sxh} \")\n",
        "    print(f\"LAS HORAS TRABAJADAS SON: {h}\")\n",
        "    print(f\"SU SALARIO NORMAL ES: {sn}\")\n",
        "    print(f\"SU SALARIO EXTRA ES: {se}: \")\n",
        "    print(f\"SU SALARIO TOTAL ES: : {st}\")\n",
        "\n",
        "except ValueError:\n",
        "    print(\"Error: Ingrese solo números enteros.\")"
      ],
      "metadata": {
        "colab": {
          "base_uri": "https://localhost:8080/"
        },
        "id": "tttHj5jufOdN",
        "outputId": "afb0f504-2121-47a4-f5f8-05d82043cff9"
      },
      "execution_count": 1,
      "outputs": [
        {
          "output_type": "stream",
          "name": "stdout",
          "text": [
            "Digite las horas semanales trabajadas: 51\n",
            "Digite su salario por hora: 10\n",
            "SU SALARIO POR HORA ES: 10 \n",
            "LAS HORAS TRABAJADAS SON: 51\n",
            "SU SALARIO NORMAL ES: 510\n",
            "SU SALARIO EXTRA ES: 240: \n",
            "SU SALARIO TOTAL ES: : 750\n"
          ]
        }
      ]
    },
    {
      "cell_type": "markdown",
      "source": [
        "3.- Programa en Python que sirva para calcular el Total a pagar por consumo de agua, donde el dato de entrada son los M3 de agua consumidos, Tomar en cuenta que se cobra escalonada de la Siguiente manera:\n",
        "\n",
        "Rango1: 0 al 4 M3 $50 x facturación sin importar cuánto consumió en este rango\n",
        "\n",
        "Rango2: 5 a 15 M3 $8.00 x M3\n",
        "\n",
        "Rango3: 16 a 50 M3 $10.00 x M3\n",
        "\n",
        "Rango4: 51 M3 en adelante $11.00 x M3\n",
        "\n",
        "Nota: Desplegar SubTotal, Iva(16%), y Total a pagar."
      ],
      "metadata": {
        "id": "-TvpW4DEgmHu"
      }
    },
    {
      "cell_type": "code",
      "source": [
        "try:\n",
        "    m3cons = float(input(\"Ingrese la cantidad de M3 de agua consumidos: \"))\n",
        "\n",
        "    if m3cons <= 4:\n",
        "        st = 50\n",
        "    elif m3cons <= 15:\n",
        "        st = 50 + (m3cons - 4) * 8\n",
        "    elif m3cons <= 50:\n",
        "        st = 50 + (15 - 4) * 8 + (m3cons - 15) * 10\n",
        "    else:\n",
        "        st = 50 + (15 - 4) * 8 + (50 - 15) * 10 + (m3cons - 50) * 11\n",
        "\n",
        "    iva = st * 0.16\n",
        "    t = st + iva\n",
        "\n",
        "    print(\"\\nSubtotal: $\", st)\n",
        "    print(\"IVA (16%): $\", iva)\n",
        "    print(\"Total a pagar: $\", t)\n",
        "\n",
        "except ValueError:\n",
        "    print(\"Error: Ingrese solo números.\")"
      ],
      "metadata": {
        "colab": {
          "base_uri": "https://localhost:8080/"
        },
        "id": "4V7WzN5Ygm3o",
        "outputId": "a8b06973-893a-4111-fe77-57f2259d8cd4"
      },
      "execution_count": 2,
      "outputs": [
        {
          "output_type": "stream",
          "name": "stdout",
          "text": [
            "Ingrese la cantidad de M3 de agua consumidos: 15\n",
            "\n",
            "Subtotal: $ 138.0\n",
            "IVA (16%): $ 22.080000000000002\n",
            "Total a pagar: $ 160.08\n"
          ]
        }
      ]
    },
    {
      "cell_type": "markdown",
      "source": [
        "4- En la materia de Metodología de la programación se aplican 5 exámenes, calcular el promedio final de la materia donde la calificación menor de los exámenes se anula y el promedio se calcula en base a 4 exámenes.\n",
        "\n",
        "Desplegar el promedio final. y cual es la mas baja que se elimino."
      ],
      "metadata": {
        "id": "3eC19DCnhYPh"
      }
    },
    {
      "cell_type": "code",
      "source": [
        "try:\n",
        "    cal1 = float(input(\"Ingrese la calificación del examen 1: \"))\n",
        "    cal2 = float(input(\"Ingrese la calificación del examen 2: \"))\n",
        "    cal3 = float(input(\"Ingrese la calificación del examen 3: \"))\n",
        "    cal4 = float(input(\"Ingrese la calificación del examen 4: \"))\n",
        "    cal5 = float(input(\"Ingrese la calificación del examen 5: \"))\n",
        "\n",
        "    cals = [cal1, cal2, cal3, cal4, cal5]\n",
        "\n",
        "    calm = min(cals)\n",
        "\n",
        "    promf = ((cal1 + cal2 + cal3 + cal4 + cal5) - calm) / 4\n",
        "\n",
        "    print(\"\\nEl promedio final de la materia es:\", promf)\n",
        "\n",
        "except ValueError:\n",
        "    print(\"Error: Ingrese solo números.\")"
      ],
      "metadata": {
        "colab": {
          "base_uri": "https://localhost:8080/"
        },
        "id": "qY5lbNjkhY5Z",
        "outputId": "3267e95c-76eb-492f-dbaf-cf6ecfc3e2b1"
      },
      "execution_count": 3,
      "outputs": [
        {
          "output_type": "stream",
          "name": "stdout",
          "text": [
            "Ingrese la calificación del examen 1: 100\n",
            "Ingrese la calificación del examen 2: 100\n",
            "Ingrese la calificación del examen 3: 100\n",
            "Ingrese la calificación del examen 4: 100\n",
            "Ingrese la calificación del examen 5: 50\n",
            "\n",
            "El promedio final de la materia es: 100.0\n"
          ]
        }
      ]
    },
    {
      "cell_type": "markdown",
      "source": [
        "5.- Programa en Python que sirva para el juego del CHINCHAMPU (Piedra, Papel, Tijera) para 1 jugador y la computadora"
      ],
      "metadata": {
        "id": "ZheZ-dJshmo9"
      }
    },
    {
      "cell_type": "code",
      "source": [
        "import random\n",
        "\n",
        "opciones = [\"Piedra\", \"Papel\", \"Tijera\"]\n",
        "\n",
        "try:\n",
        "    opcj = input(\"Elige Piedra, Papel o Tijera: \").capitalize()\n",
        "\n",
        "    if opcj not in opciones:\n",
        "        raise ValueError\n",
        "\n",
        "    opcM = random.choice(opciones)\n",
        "\n",
        "    print(f\"\\nJugador: {opcj}\")\n",
        "    print(f\"Computadora: {opcM}\\n\")\n",
        "\n",
        "    if opcj == opcM:\n",
        "        print(\"EMPATE\")\n",
        "    elif (opcj == \"Piedra\" and opcM == \"Tijera\") or \\\n",
        "         (opcj == \"Papel\" and opcM == \"Piedra\") or \\\n",
        "         (opcj == \"Tijera\" and opcM == \"Papel\"):\n",
        "        print(\"GANASTE\")\n",
        "    else:\n",
        "        print(\"PERDISTE\")\n",
        "\n",
        "except ValueError:\n",
        "    print(\"Opción inválida. \")"
      ],
      "metadata": {
        "colab": {
          "base_uri": "https://localhost:8080/"
        },
        "id": "_d50DoYKhnTG",
        "outputId": "5b6a2b6d-002e-4c61-90d1-a5988a631ce2"
      },
      "execution_count": 5,
      "outputs": [
        {
          "output_type": "stream",
          "name": "stdout",
          "text": [
            "Elige Piedra, Papel o Tijera: pp\n",
            "Opción inválida. \n"
          ]
        }
      ]
    },
    {
      "cell_type": "markdown",
      "source": [
        "6.- Programa en Python que lea 4 números enteros desplegar cuales el menor, cual es mayor"
      ],
      "metadata": {
        "id": "BKeDU9fKiojK"
      }
    },
    {
      "cell_type": "code",
      "source": [
        "try:\n",
        "\n",
        "    num1 = int(input(\"Ingrese el primer número entero: \"))\n",
        "    num2 = int(input(\"Ingrese el segundo número entero: \"))\n",
        "    num3 = int(input(\"Ingrese el tercer número entero: \"))\n",
        "    num4 = int(input(\"Ingrese el cuarto número entero: \"))\n",
        "\n",
        "    menor = min(num1, num2, num3, num4)\n",
        "    mayor = max(num1, num2, num3, num4)\n",
        "\n",
        "\n",
        "    print(f\"El número menor es: {menor}\")\n",
        "    print(f\"El número mayor es: {mayor}\")\n",
        "\n",
        "except ValueError:\n",
        "    print(\"Error: Ingrese solo números enteros.\")"
      ],
      "metadata": {
        "colab": {
          "base_uri": "https://localhost:8080/"
        },
        "id": "lDngBokWio5A",
        "outputId": "66a2888a-82da-4ba3-a7e4-2e6f8f3e48b5"
      },
      "execution_count": 8,
      "outputs": [
        {
          "output_type": "stream",
          "name": "stdout",
          "text": [
            "Ingrese el primer número entero: 10\n",
            "Ingrese el segundo número entero: 20\n",
            "Ingrese el tercer número entero: 32\n",
            "Ingrese el cuarto número entero: 21\n",
            "El número menor es: 10\n",
            "El número mayor es: 32\n"
          ]
        }
      ]
    },
    {
      "cell_type": "markdown",
      "source": [
        "7.- Programa en Python que sirva para calcular el área de un triangulo, los datos de entrada deben ser forzosamente de tipo real"
      ],
      "metadata": {
        "id": "Tm0z4rmGjHJr"
      }
    },
    {
      "cell_type": "code",
      "source": [
        "try:\n",
        "    bas = float(input(\"Ingrese la longitud de la base del triángulo: \"))\n",
        "    alt = float(input(\"Ingrese la altura del triángulo: \"))\n",
        "\n",
        "    area = (bas * alt) / 2\n",
        "\n",
        "    print(f\"El área del triángulo es: {area}\")\n",
        "\n",
        "except ValueError:\n",
        "    print(\"Error: Ingrese solo números reales para la base y la altura del triángulo.\")"
      ],
      "metadata": {
        "colab": {
          "base_uri": "https://localhost:8080/"
        },
        "id": "8M2VGXHSi9m0",
        "outputId": "b1f9739c-1538-4f33-891a-6e83842fa8e0"
      },
      "execution_count": 12,
      "outputs": [
        {
          "output_type": "stream",
          "name": "stdout",
          "text": [
            "Ingrese la longitud de la base del triángulo: 10\n",
            "Ingrese la altura del triángulo: 5\n",
            "El área del triángulo es: 25.0\n"
          ]
        }
      ]
    },
    {
      "cell_type": "markdown",
      "source": [
        "8.- Programa en Python que sirva para calcular el área de un circulo"
      ],
      "metadata": {
        "id": "6iunwApZjkVv"
      }
    },
    {
      "cell_type": "code",
      "source": [
        "import math\n",
        "\n",
        "try:\n",
        "    radio = float(input(\"Ingrese el radio del círculo: \"))\n",
        "\n",
        "    area = math.pi * radio ** 2\n",
        "\n",
        "    print(f\"El área del círculo es: {area}\")\n",
        "\n",
        "except ValueError:\n",
        "    print(\"Error: Ingrese solo números reales para el radio del círculo.\")"
      ],
      "metadata": {
        "colab": {
          "base_uri": "https://localhost:8080/"
        },
        "id": "HyoMszVTjl2z",
        "outputId": "d86dbb2d-3d09-4a62-fb7f-003d6100472a"
      },
      "execution_count": 13,
      "outputs": [
        {
          "output_type": "stream",
          "name": "stdout",
          "text": [
            "Ingrese el radio del círculo: 10\n",
            "El área del círculo es: 314.1592653589793\n"
          ]
        }
      ]
    }
  ]
}