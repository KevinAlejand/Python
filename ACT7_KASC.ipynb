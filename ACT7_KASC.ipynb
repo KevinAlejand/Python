{
  "nbformat": 4,
  "nbformat_minor": 0,
  "metadata": {
    "colab": {
      "provenance": [],
      "authorship_tag": "ABX9TyPB/trWrr0DxnflJd9JjDcN",
      "include_colab_link": true
    },
    "kernelspec": {
      "name": "python3",
      "display_name": "Python 3"
    },
    "language_info": {
      "name": "python"
    }
  },
  "cells": [
    {
      "cell_type": "markdown",
      "metadata": {
        "id": "view-in-github",
        "colab_type": "text"
      },
      "source": [
        "<a href=\"https://colab.research.google.com/github/KevinAlejand/Python/blob/main/ACT7_KASC.ipynb\" target=\"_parent\"><img src=\"https://colab.research.google.com/assets/colab-badge.svg\" alt=\"Open In Colab\"/></a>"
      ]
    },
    {
      "cell_type": "markdown",
      "source": [
        "# Practica 7"
      ],
      "metadata": {
        "id": "cdwruNZr8dPz"
      }
    },
    {
      "cell_type": "code",
      "source": [
        "lista = [1, 0 , 4, 2, 32, 9, 99]\n",
        "elemento = int(input(\"AGREGUE VALORES \"))\n",
        "lista.append(elemento)\n",
        "lista.sort()\n",
        "print (lista)"
      ],
      "metadata": {
        "colab": {
          "base_uri": "https://localhost:8080/"
        },
        "id": "aRV-xPjF0I8l",
        "outputId": "a6446425-d27f-4314-e095-426e5899bcda"
      },
      "execution_count": null,
      "outputs": [
        {
          "output_type": "stream",
          "name": "stdout",
          "text": [
            "AGREGUE VALORES 21\n",
            "[0, 1, 2, 4, 9, 21, 32, 99]\n"
          ]
        }
      ]
    },
    {
      "cell_type": "markdown",
      "source": [
        " 1.- Función que utilice una lista con los nombres de tus mascotas, o artistas favoritos, (minimo 5, maximo 10) imprimir las cadenas y la cantidad de caracteres de cada cadena.  \n",
        "\n",
        "EJEMPLO SALIDA:\n",
        "\n",
        "[0]SCARLETT --> 8 CARACTERES\n",
        "\n",
        "[1]GATINA --> 6 CARACTERES\n",
        "\n",
        "[2]PELUSA --> 6 CARACTERES\n",
        "\n",
        "[3]PELUSINA --> 8 CARACTERES\n",
        "\n",
        "[4]MILO --> 4 CARACTERES\n",
        "\n",
        "[5]KHALIFA --> 7 CARACTERES"
      ],
      "metadata": {
        "id": "LpaIgcqz2SOe"
      }
    },
    {
      "cell_type": "code",
      "source": [
        "def enlistado():\n",
        "    lista = [\"MILO\", \"PAULO\", \"BZRP\", \"DUKI\", \"FEID\", \"ÑEJO\"]\n",
        "    i = 0\n",
        "    for cadena in lista:\n",
        "        print (f\"  [{i}] -----> {cadena} -----> {len(cadena)} caracteres  \")\n",
        "        i += 1\n",
        "\n",
        "enlistado()"
      ],
      "metadata": {
        "colab": {
          "base_uri": "https://localhost:8080/"
        },
        "id": "oUK-65sA2XRa",
        "outputId": "74c8dbb1-0dd2-4da8-cff3-8447e6b358ab"
      },
      "execution_count": null,
      "outputs": [
        {
          "output_type": "stream",
          "name": "stdout",
          "text": [
            "  [0] -----> MILO -----> 4 caracteres  \n",
            "  [1] -----> PAULO -----> 5 caracteres  \n",
            "  [2] -----> BZRP -----> 4 caracteres  \n",
            "  [3] -----> DUKI -----> 4 caracteres  \n",
            "  [4] -----> FEID -----> 4 caracteres  \n",
            "  [5] -----> ÑEJO -----> 4 caracteres  \n"
          ]
        }
      ]
    },
    {
      "cell_type": "markdown",
      "source": [
        "2.- Programa que utilice 2 funciones,\n",
        "\n",
        "Función que genere y regrese una lista con 10 números aleatorios entre el 30 y 50 (no repetidos).\n",
        "Función que reciba una *lista* , Imprimir la lista (Indice y Valor )\n",
        "\n",
        "\n",
        " Mandar llamar la función e imprimir toda la lista."
      ],
      "metadata": {
        "id": "geuY8z3f8Xc6"
      }
    },
    {
      "cell_type": "code",
      "source": [
        "import random\n",
        "\n",
        "def gen_nums_alea():\n",
        "    nums_alea = random.sample(range(30, 51), 10)\n",
        "    return nums_alea\n",
        "\n",
        "def lis_con_indices(lista):\n",
        "    for indice, valor in enumerate(lista):\n",
        "        print(f\"Indice: {indice}, Valor: {valor}\")\n",
        "\n",
        "nums_alea = gen_nums_alea()\n",
        "lis_con_indices(nums_alea)\n"
      ],
      "metadata": {
        "id": "3IaZT90q4yba",
        "colab": {
          "base_uri": "https://localhost:8080/"
        },
        "outputId": "6870ce1b-6363-43ca-eee5-f995a0ff979b"
      },
      "execution_count": 3,
      "outputs": [
        {
          "output_type": "stream",
          "name": "stdout",
          "text": [
            "Indice: 0, Valor: 39\n",
            "Indice: 1, Valor: 50\n",
            "Indice: 2, Valor: 49\n",
            "Indice: 3, Valor: 32\n",
            "Indice: 4, Valor: 40\n",
            "Indice: 5, Valor: 46\n",
            "Indice: 6, Valor: 48\n",
            "Indice: 7, Valor: 37\n",
            "Indice: 8, Valor: 42\n",
            "Indice: 9, Valor: 44\n"
          ]
        }
      ]
    },
    {
      "cell_type": "markdown",
      "source": [
        "3.- Escribe una función que reciba dos listas de números del mismo tamaño y calcule la suma de los elementos correspondientes de cada lista. (regresar una nueva lista) . Luego, muestra una lista con los resultados de cada suma. Nota: si las listas no son del mismo tamaño mandar msge y utilizar el tamaño de la lista mas pequeña)\n",
        "\n"
      ],
      "metadata": {
        "id": "eBS17o-unW_X"
      }
    },
    {
      "cell_type": "code",
      "source": [
        "def obtener_lista():\n",
        "    entrada = input(\"Ingrese valores a la lista separados por espacios: \")\n",
        "    lista = [int(num) for num in entrada.split()]\n",
        "    return lista\n",
        "\n",
        "def suma(lista1, lista2):\n",
        "    if len(lista1) != len(lista2):\n",
        "        print(\"Las listas no tienen el mismo tamaño. Se utilizará el tamaño de la lista más pequeña. \")\n",
        "\n",
        "    resultado = []\n",
        "    min_length = min(len(lista1), len(lista2))\n",
        "\n",
        "    for i in range(min_length):\n",
        "        suma = lista1[i] + lista2[i]\n",
        "        resultado.append(suma)\n",
        "\n",
        "    return resultado\n",
        "\n",
        "print(\"Ingrese los valores para la primera lista: \")\n",
        "lista1 = obtener_lista()\n",
        "\n",
        "print(\"Ingrese los valores para la segunda lista: \")\n",
        "lista2 = obtener_lista()\n",
        "\n",
        "res_suma = suma(lista1, lista2)\n",
        "print(\"El resultado de la suma es: \", res_suma)\n"
      ],
      "metadata": {
        "colab": {
          "base_uri": "https://localhost:8080/"
        },
        "id": "HgMGn4oTnXwe",
        "outputId": "a00fd91e-d3b9-4dcc-80ed-8f0b17e2afb9"
      },
      "execution_count": 5,
      "outputs": [
        {
          "output_type": "stream",
          "name": "stdout",
          "text": [
            "Ingrese los valores para la primera lista:\n",
            "Ingrese valores a la lista separados por espacios: 10 3 5 0 3\n",
            "Ingrese los valores para la segunda lista:\n",
            "Ingrese valores a la lista separados por espacios: 10 3 5 2 1\n",
            "El resultado de la suma de listas es: [20, 6, 10, 2, 4]\n"
          ]
        }
      ]
    },
    {
      "cell_type": "markdown",
      "source": [
        "4.- Escribe una función llamada eliminar_duplicados que reciba una lista como parámetro y elimine los elementos duplicados. El resultado debe ser una nueva lista sin duplicados. Pide al usuario que ingrese una lista y luego llama a la función eliminar_duplicados para mostrar la lista sin duplicados. (Solo Numeros enteros, validar)\n",
        "\n"
      ],
      "metadata": {
        "id": "9V1VkK1_nYS_"
      }
    },
    {
      "cell_type": "code",
      "source": [
        "def elim_dupli(lista):\n",
        "    lis_sin_dupli = []\n",
        "    for elemento in lista:\n",
        "        if elemento not in lis_sin_dupli:\n",
        "            lis_sin_dupli.append(elemento)\n",
        "    return lis_sin_dupli\n",
        "\n",
        "def obt_lis():\n",
        "    while True:\n",
        "        entrada = input(\"Ingrese una lista de numeros enteros separados por espacios: \")\n",
        "        numeros = entrada.split()\n",
        "        lista = []\n",
        "        try:\n",
        "            for num in numeros:\n",
        "                lista.append(int(num))\n",
        "            return lista\n",
        "        except ValueError:\n",
        "            print(\"Por favor, ingrese solo numeros enteros. \")\n",
        "\n",
        "\n",
        "print(\"Ingrese una lista de numeros enteros para eliminar duplicados: \")\n",
        "lista = obtener_lista()\n",
        "\n",
        "lis_sin_dupli = elim_dupli(lista)\n",
        "print(\"La lista sin duplicados es: \", lis_sin_dupli)\n"
      ],
      "metadata": {
        "colab": {
          "base_uri": "https://localhost:8080/"
        },
        "id": "7FHtYBornYq2",
        "outputId": "a68b83c6-0872-4ffd-ab89-ce208891a193"
      },
      "execution_count": 7,
      "outputs": [
        {
          "output_type": "stream",
          "name": "stdout",
          "text": [
            "Ingrese una lista de numeros enteros para eliminar duplicados: \n",
            "Ingrese valores a la lista separados por espacios: 10 10 11 20 11 9 2 0\n",
            "La lista sin duplicados es:  [10, 11, 20, 9, 2, 0]\n"
          ]
        }
      ]
    },
    {
      "cell_type": "markdown",
      "source": [
        "5.- Escribe una función que calcule la media y la mediana de una lista de números enteros.\n",
        "\n",
        "La media es la suma de todos los elementos y dividido entre la cantidad de elementos\n",
        "\n",
        "La mediana es el valor que queda en la mitad de la lista cuando se ordena de forma ascendente. Si la lista tiene un número par de elementos, la mediana se calcula como el promedio de los dos valores centrales. Puedes utilizar el método sort() para ordenar la lista y luego calcular la mediana según el tamaño de la lista.\n",
        "\n"
      ],
      "metadata": {
        "id": "X6CXpeQUnb2E"
      }
    },
    {
      "cell_type": "code",
      "source": [
        "def cal_media(lista):\n",
        "    media = sum(lista) / len(lista)\n",
        "    return media\n",
        "\n",
        "def cal_mediana(lista):\n",
        "    lista_ordenada = sorted(lista)\n",
        "    n = len(lista_ordenada)\n",
        "    if n % 2 == 0:\n",
        "        mediana = (lista_ordenada[n // 2 - 1] + lista_ordenada[n // 2]) / 2\n",
        "    else:\n",
        "        mediana = lista_ordenada[n // 2]\n",
        "    return mediana\n",
        "\n",
        "numeros = [10, 30, 20, 11, 53, 32, 88, 100]\n",
        "\n",
        "media = cal_media(numeros)\n",
        "mediana = cal_mediana(numeros)\n",
        "\n",
        "print(\"La media es: \", media)\n",
        "print(\"La mediana es: \", mediana)\n"
      ],
      "metadata": {
        "colab": {
          "base_uri": "https://localhost:8080/"
        },
        "id": "7oLzLd8rncKI",
        "outputId": "792102bc-03ce-411f-8833-84212f065308"
      },
      "execution_count": 11,
      "outputs": [
        {
          "output_type": "stream",
          "name": "stdout",
          "text": [
            "La media es:  43.0\n",
            "La mediana es:  31.0\n"
          ]
        }
      ]
    }
  ]
}