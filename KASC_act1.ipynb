{
  "nbformat": 4,
  "nbformat_minor": 0,
  "metadata": {
    "colab": {
      "provenance": [],
      "authorship_tag": "ABX9TyOLC/GsSzQxV7F9J9HNjQJ1",
      "include_colab_link": true
    },
    "kernelspec": {
      "name": "python3",
      "display_name": "Python 3"
    },
    "language_info": {
      "name": "python"
    }
  },
  "cells": [
    {
      "cell_type": "markdown",
      "metadata": {
        "id": "view-in-github",
        "colab_type": "text"
      },
      "source": [
        "<a href=\"https://colab.research.google.com/github/KevinAlejand/Python/blob/main/KASC_act1.ipynb\" target=\"_parent\"><img src=\"https://colab.research.google.com/assets/colab-badge.svg\" alt=\"Open In Colab\"/></a>"
      ]
    },
    {
      "cell_type": "markdown",
      "source": [
        "1.- Programa en Python Mostrar un mensaje que diga “HOLA MUNDO” en un solo renglón usando 2 print"
      ],
      "metadata": {
        "id": "mtsi5wEXmzT9"
      }
    },
    {
      "cell_type": "code",
      "source": [
        "print(\"Hola\", end=\" \")\n",
        "\n",
        "print(\"Mundo\")\n",
        "\n",
        "\n"
      ],
      "metadata": {
        "colab": {
          "base_uri": "https://localhost:8080/"
        },
        "id": "swjfhkGenvoK",
        "outputId": "24466ed6-fa01-48ff-bbe9-5d053df08714"
      },
      "execution_count": null,
      "outputs": [
        {
          "output_type": "stream",
          "name": "stdout",
          "text": [
            "Hola Mundo\n"
          ]
        }
      ]
    },
    {
      "cell_type": "markdown",
      "source": [
        "2.- Programa en Python que lea 2 números, realizar la a suma y desplegar la suma de los 2 números"
      ],
      "metadata": {
        "id": "DSYk4XnSZ-k3"
      }
    },
    {
      "cell_type": "code",
      "source": [
        "num1 = int (input(\"Digite un numero\\n\"))\n",
        "\n",
        "num2 = int (input(\"Digite otro numero\\n\"))\n",
        "suma = num1+num2\n",
        "print(num1,\" + \",num2,\" = \",suma)"
      ],
      "metadata": {
        "id": "30W_BhLCpj4v",
        "colab": {
          "base_uri": "https://localhost:8080/"
        },
        "outputId": "a5d22495-7b18-4fdd-d84f-a5694fb914d6"
      },
      "execution_count": null,
      "outputs": [
        {
          "output_type": "stream",
          "name": "stdout",
          "text": [
            "Digite un numero\n",
            "10\n",
            "Digite otro numero\n",
            "6\n",
            "10  +  6  =  16\n"
          ]
        }
      ]
    },
    {
      "cell_type": "markdown",
      "source": [
        "3.- Programa en Python que lea 2 números y realice las 4\n",
        "\n",
        "operaciones básicas"
      ],
      "metadata": {
        "id": "BET0J1_RTV5U"
      }
    },
    {
      "cell_type": "code",
      "source": [
        "num1 = int (input(\"Digite un numero\\n\"))\n",
        "\n",
        "num2 = int (input(\"Digite otro numero\\n\"))\n",
        "suma = num1+num2\n",
        "res = num1-num2\n",
        "mult = num1*num2\n",
        "divi = num1/num2\n",
        "print(num1,\" + \",num2,\" = \",suma)\n",
        "print(num1,\" - \",num2,\" = \",res)\n",
        "print(num1,\" x \",num2,\" = \",mult)\n",
        "print(num1,\" / \",num2,\" = \",divi)"
      ],
      "metadata": {
        "colab": {
          "base_uri": "https://localhost:8080/"
        },
        "id": "VtVY_wZqTT-X",
        "outputId": "aeeb86cc-23a4-4378-814c-0d68e731e36b"
      },
      "execution_count": null,
      "outputs": [
        {
          "output_type": "stream",
          "name": "stdout",
          "text": [
            "Digite un numero\n",
            "10\n",
            "Digite otro numero\n",
            "5\n",
            "10  +  5  =  15\n",
            "10  -  5  =  5\n",
            "10  x  5  =  50\n",
            "10  /  5  =  2.0\n"
          ]
        }
      ]
    },
    {
      "cell_type": "code",
      "source": [
        "print(num1,\" + \",num2,\" = \",suma)"
      ],
      "metadata": {
        "id": "U4fL2HssTgtZ"
      },
      "execution_count": null,
      "outputs": []
    },
    {
      "cell_type": "markdown",
      "source": [
        "4.- Programa en Python Que sirva para calcular el área de\n",
        "\n",
        "un triángulo"
      ],
      "metadata": {
        "id": "HZKb7wH3UWeG"
      }
    },
    {
      "cell_type": "code",
      "source": [
        "bas = int (input(\"Digite la altura del triangulo\\n\"))\n",
        "\n",
        "alt = int (input(\"Digite su altura\\n\"))\n",
        "area = bas*alt/2\n",
        "print(\"La base del traingulo es: \", bas,\" Su altura es:\",alt,\"\\nEL AREA ES =\",area)"
      ],
      "metadata": {
        "colab": {
          "base_uri": "https://localhost:8080/"
        },
        "id": "WQcVH91sUXY7",
        "outputId": "b8575619-cd81-4af3-ed67-39b8287ee88d"
      },
      "execution_count": null,
      "outputs": [
        {
          "output_type": "stream",
          "name": "stdout",
          "text": [
            "Digite la altura del triangulo\n",
            "10\n",
            "Digite su altura\n",
            "5\n",
            "La base del traingulo es:  10  Su altura es: 5 \n",
            "EL AREA ES= 25.0\n"
          ]
        }
      ]
    },
    {
      "cell_type": "code",
      "source": [
        "5.- Programa en Python que lea una medida en centímetros y\n",
        "\n",
        "desplegar la misma medida pero convertida en pies y pulgadas"
      ],
      "metadata": {
        "id": "jJ_w2dyZVbZy"
      },
      "execution_count": null,
      "outputs": []
    },
    {
      "cell_type": "code",
      "source": [
        "cem = int (input(\"Digite una medida en centimetros\\n\"))\n",
        "pie = 30.48\n",
        "pul = 2.54\n",
        "ope1 = cem / pie\n",
        "ope2 = cem / pul\n",
        "print(\"La medida en centimetros es \", cem,\"\\n EN PIES ES =\", ope1,\"\\n EN PULGADAS ES =\",ope2)"
      ],
      "metadata": {
        "colab": {
          "base_uri": "https://localhost:8080/"
        },
        "id": "EvY9cEncVjpY",
        "outputId": "b37a5324-a178-4c73-864c-d8ec1bb4ff0d"
      },
      "execution_count": null,
      "outputs": [
        {
          "output_type": "stream",
          "name": "stdout",
          "text": [
            "Digite una medida en centimetros\n",
            "10\n",
            "La medida en centimetros es  10 \n",
            " EN PIES ES = 0.32808398950131235 \n",
            " EN PULGADAS ES = 3.937007874015748\n"
          ]
        }
      ]
    },
    {
      "cell_type": "markdown",
      "source": [
        "6.- Programa en Python que lea una temperatura en\n",
        "\n",
        "grados centígrados y desplegarla en Grados Fahrenheit y grados\n",
        "\n",
        "kelvin"
      ],
      "metadata": {
        "id": "lP7BUSwtXKys"
      }
    },
    {
      "cell_type": "code",
      "source": [
        "tem = int (input(\"Digite una temperatura en grados centigrados\\n\"))\n",
        "\n",
        "ope1 = (tem * 9/5) + 32\n",
        "ope2 = tem + 273.15\n",
        "print(\"La temperatura en Centigrados es: \",tem ,\"\\n EN FAH =\", ope1,\"\\n EN KEL =\",ope2)"
      ],
      "metadata": {
        "colab": {
          "base_uri": "https://localhost:8080/"
        },
        "id": "hDdVukAGXNlt",
        "outputId": "07887054-6ece-4c2d-c8c8-1ed864ffe00c"
      },
      "execution_count": null,
      "outputs": [
        {
          "output_type": "stream",
          "name": "stdout",
          "text": [
            "Digite una temperatura en grados centigrados\n",
            "10\n",
            "La temperatura en Centigrados es:  10 \n",
            " EN FAH = 50.0 \n",
            " EN KEL = 283.15\n"
          ]
        }
      ]
    },
    {
      "cell_type": "markdown",
      "source": [
        "7.- Programa en Python que lea 4 calificaciones de un alumno,\n",
        "\n",
        "desplegar el promedio del alumno"
      ],
      "metadata": {
        "id": "Ncxks4PVYhVc"
      }
    },
    {
      "cell_type": "code",
      "source": [
        "cal1 = int (input(\"Digite un numero\\n\"))\n",
        "cal2 = int (input(\"Digite un numero\\n\"))\n",
        "cal3 = int (input(\"Digite un numero\\n\"))\n",
        "cal4 = int (input(\"Digite otro numero\\n\"))\n",
        "\n",
        "prom = (cal1 + cal2 + cal3 + cal4)/4\n",
        "\n",
        "print(\"EL PROMEDIO ES \",prom)"
      ],
      "metadata": {
        "colab": {
          "base_uri": "https://localhost:8080/"
        },
        "id": "UUvASOwtYiky",
        "outputId": "70a90318-af62-40cc-c07a-ce861ff0a7eb"
      },
      "execution_count": null,
      "outputs": [
        {
          "output_type": "stream",
          "name": "stdout",
          "text": [
            "Digite un numero\n",
            "10\n",
            "Digite un numero\n",
            "8\n",
            "Digite un numero\n",
            "7\n",
            "Digite otro numero\n",
            "6\n",
            "EL PROMEDIO ES  7.75\n"
          ]
        }
      ]
    }
  ]
}