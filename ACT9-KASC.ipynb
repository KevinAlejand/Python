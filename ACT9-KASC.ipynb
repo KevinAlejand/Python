{
  "cells": [
    {
      "cell_type": "markdown",
      "metadata": {
        "id": "view-in-github",
        "colab_type": "text"
      },
      "source": [
        "<a href=\"https://colab.research.google.com/github/KevinAlejand/Python/blob/main/ACT9-KASC.ipynb\" target=\"_parent\"><img src=\"https://colab.research.google.com/assets/colab-badge.svg\" alt=\"Open In Colab\"/></a>"
      ]
    },
    {
      "cell_type": "markdown",
      "metadata": {
        "id": "H54-cfgUhszC"
      },
      "source": [
        "#ACTIVIDAD 9"
      ]
    },
    {
      "cell_type": "markdown",
      "metadata": {
        "id": "2Y27vbHUhvSg"
      },
      "source": [
        "Realiza un programa en python que utilice el siguiente menu:\n",
        " MENU\n",
        "\n",
        " 1.- Crear Diccionario\n",
        " 2.- Imprimir Diccionario\n",
        " 0.- Salir\n",
        "\n",
        "CREAR DICCIIONARIO: funcion que retorne un diccionario con los datos de basicos de un alumno, donde se pide {id,nombre (1 O 2) , appaterno,apmaterno, edad,sexo}, El diccionario se debe generar automaticmanete a partir de listas."
      ]
    },
    {
      "cell_type": "code",
      "execution_count": null,
      "metadata": {
        "colab": {
          "background_save": true,
          "base_uri": "https://localhost:8080/"
        },
        "id": "kHbtN4CjqTNV",
        "outputId": "74ed9981-e9e5-46f1-99d6-b0877a0eaee1"
      },
      "outputs": [
        {
          "output_type": "stream",
          "name": "stdout",
          "text": [
            "\n",
            "--------- MENU ----------\n",
            "1.- Crear Diccionario\n",
            "2.- Imprimir Diccionario\n",
            "0.- Salir\n",
            "Seleccione una opción: 1\n",
            "Ingrese su id: 1000\n",
            "Ingrese su nombre (Uno o Dos): Kevin Alejandro \n",
            "Ingrese su apellido paterno: Solorzano\n",
            "Ingrese su apellido materno: Cordero\n",
            "Ingrese su edad: 20\n",
            "Ingrese su sexo: H\n",
            "\n",
            "--------- MENU ----------\n",
            "1.- Crear Diccionario\n",
            "2.- Imprimir Diccionario\n",
            "0.- Salir\n",
            "Seleccione una opción: 2\n",
            "\n",
            "Diccionario del alumno:\n",
            "ID: 1000\n",
            "Nombre: Kevin Alejandro \n",
            "Apellido Paterno: Solorzano\n",
            "Apellido Materno: Cordero\n",
            "Edad: 20\n",
            "Sexo: H\n",
            "\n",
            "--------- MENU ----------\n",
            "1.- Crear Diccionario\n",
            "2.- Imprimir Diccionario\n",
            "0.- Salir\n"
          ]
        }
      ],
      "source": [
        "def crear_diccionario():\n",
        "    lista = []\n",
        "    id = int(input(\"Ingrese su id: \"))\n",
        "    lista.append(id)\n",
        "    nom = input(\"Ingrese su nombre (Uno o Dos): \")\n",
        "    lista.append(nom)\n",
        "    ap = input(\"Ingrese su apellido paterno: \")\n",
        "    lista.append(ap)\n",
        "    am = input(\"Ingrese su apellido materno: \")\n",
        "    lista.append(am)\n",
        "    ed = input(\"Ingrese su edad: \")\n",
        "    lista.append(ed)\n",
        "    sex = input(\"Ingrese su sexo: \")\n",
        "    lista.append(sex)\n",
        "    alumno = [[\"ID\", \"Nombre\", \"Apellido Paterno\", \"Apellido Materno\", \"Edad\", \"Sexo\"], lista]\n",
        "    return alumno\n",
        "\n",
        "def imp_dic(alumno):\n",
        "    headers = alumno[0]\n",
        "    data = alumno[1]\n",
        "    for header, value in zip(headers, data):\n",
        "        print(f\"{header}: {value}\")\n",
        "\n",
        "def main():\n",
        "    dic_alumno = []\n",
        "\n",
        "    while True:\n",
        "        print(\"\\n--------- MENU ----------\\n1.- Crear Diccionario\\n2.- Imprimir Diccionario\\n0.- Salir\")\n",
        "        opcion = input(\"Seleccione una opción: \")\n",
        "\n",
        "        if opcion == \"1\":\n",
        "            dic_alumno = crear_diccionario()\n",
        "        elif opcion == \"2\":\n",
        "            if dic_alumno:\n",
        "                print(\"\\nDiccionario del alumno:\")\n",
        "                imp_dic(dic_alumno)\n",
        "            else:\n",
        "                print(\"El diccionario del alumno está vacío. Cree un diccionario primero.\")\n",
        "        elif opcion == \"0\":\n",
        "            print(\"Saliendo...\")\n",
        "            break\n",
        "        else:\n",
        "            print(\"Opción no válida, ingrese opción válida.\")\n",
        "\n",
        "if __name__ == \"__main__\":\n",
        "    main()\n"
      ]
    }
  ],
  "metadata": {
    "colab": {
      "provenance": [],
      "authorship_tag": "ABX9TyMqgCIz4INFzjnGPwNuNG2+",
      "include_colab_link": true
    },
    "kernelspec": {
      "display_name": "Python 3",
      "name": "python3"
    },
    "language_info": {
      "name": "python"
    }
  },
  "nbformat": 4,
  "nbformat_minor": 0
}