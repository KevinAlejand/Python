{
  "nbformat": 4,
  "nbformat_minor": 0,
  "metadata": {
    "colab": {
      "provenance": [],
      "authorship_tag": "ABX9TyMVGlcdyL8C9QjgyKwreHdm",
      "include_colab_link": true
    },
    "kernelspec": {
      "name": "python3",
      "display_name": "Python 3"
    },
    "language_info": {
      "name": "python"
    }
  },
  "cells": [
    {
      "cell_type": "markdown",
      "metadata": {
        "id": "view-in-github",
        "colab_type": "text"
      },
      "source": [
        "<a href=\"https://colab.research.google.com/github/KevinAlejand/Python/blob/main/Exam_2.ipynb\" target=\"_parent\"><img src=\"https://colab.research.google.com/assets/colab-badge.svg\" alt=\"Open In Colab\"/></a>"
      ]
    },
    {
      "cell_type": "markdown",
      "source": [
        "Escribe en google collaboratory una funcion de Python que realice lo siguiente:\n",
        "\n",
        "funcion que retorne el resultado del area de un triangulo\n",
        "\n",
        "Escribir codigo que mande llamar la funcion y desplegar el resultado,\n",
        "\n",
        "Pedir al usuario los datos de entrada y VALIDAR da tos entrada"
      ],
      "metadata": {
        "id": "boSHYuYs6ZL6"
      }
    },
    {
      "cell_type": "code",
      "execution_count": 5,
      "metadata": {
        "colab": {
          "base_uri": "https://localhost:8080/"
        },
        "id": "uqNh5_on6YtN",
        "outputId": "620bfd61-7b81-4340-8d83-a7883b7ea08c"
      },
      "outputs": [
        {
          "output_type": "stream",
          "name": "stdout",
          "text": [
            "Ingrese la base del triangulo: 10\n",
            "Ingrese la altura del triangulo: 2\n",
            "La altura es 2, y su base es 10, EL RESULTADO ES: 20\n"
          ]
        }
      ],
      "source": [
        "def area():\n",
        "    base = int(input(\"Ingrese la base del triangulo: \"))\n",
        "    alt = int(input(\"Ingrese la altura del triangulo: \"))\n",
        "\n",
        "    area = (base * alt)\n",
        "    print(f\"La altura es {alt}, y su base es {base}, EL AREA ES: {area}\")\n",
        "area()"
      ]
    }
  ]
}