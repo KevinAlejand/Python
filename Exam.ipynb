{
  "nbformat": 4,
  "nbformat_minor": 0,
  "metadata": {
    "colab": {
      "provenance": [],
      "authorship_tag": "ABX9TyPVo9T/MuxdZ95q8C7HILso",
      "include_colab_link": true
    },
    "kernelspec": {
      "name": "python3",
      "display_name": "Python 3"
    },
    "language_info": {
      "name": "python"
    }
  },
  "cells": [
    {
      "cell_type": "markdown",
      "metadata": {
        "id": "view-in-github",
        "colab_type": "text"
      },
      "source": [
        "<a href=\"https://colab.research.google.com/github/KevinAlejand/Python/blob/main/Exam.ipynb\" target=\"_parent\"><img src=\"https://colab.research.google.com/assets/colab-badge.svg\" alt=\"Open In Colab\"/></a>"
      ]
    },
    {
      "cell_type": "markdown",
      "source": [
        "Escribe en google collaboratory una funcion de Python que realice lo siguiente:\n",
        "\n",
        "\n",
        "funcion que retorne un diccionario con los datos basicos de un alumno (pedir al usuario y validar)\n",
        "\n",
        "\n",
        "\n",
        "Escribir bloque de codigo que mande llamar la funcion y desplegar el resultado,"
      ],
      "metadata": {
        "id": "079KMGUdubnP"
      }
    },
    {
      "cell_type": "code",
      "execution_count": 20,
      "metadata": {
        "id": "KNtGAx0Suakt"
      },
      "outputs": [],
      "source": [
        "def alumno():\n",
        "\n",
        "    mat = int(input(\"Ingrese su matricula\"))\n",
        "    nom = input(\"Ingrese su nombre\")\n",
        "    sex = input(\"Ingrese su sexo\")\n",
        "    ed = int (input(\"Ingrese su nombre\"))\n",
        "\n",
        "    usuario = {mat: \" \", nom:\" \", sex: \" \", ed: \" \"}\n",
        "\n",
        "    mat = usuario.append.list(alumno)\n",
        "    nom = usuario.append.list(alumno)\n",
        "    sex = usuario.append.list(alumno)\n",
        "    ed = usuario.append.list(alumno)\n",
        "\n",
        "\n",
        "    print(usuario)\n",
        "    return"
      ]
    }
  ]
}