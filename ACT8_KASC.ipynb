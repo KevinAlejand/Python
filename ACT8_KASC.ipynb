{
  "nbformat": 4,
  "nbformat_minor": 0,
  "metadata": {
    "colab": {
      "provenance": [],
      "authorship_tag": "ABX9TyNOENRN2NUN3T0BMGP6U3F1",
      "include_colab_link": true
    },
    "kernelspec": {
      "name": "python3",
      "display_name": "Python 3"
    },
    "language_info": {
      "name": "python"
    }
  },
  "cells": [
    {
      "cell_type": "markdown",
      "metadata": {
        "id": "view-in-github",
        "colab_type": "text"
      },
      "source": [
        "<a href=\"https://colab.research.google.com/github/KevinAlejand/Python/blob/main/ACT8_KASC.ipynb\" target=\"_parent\"><img src=\"https://colab.research.google.com/assets/colab-badge.svg\" alt=\"Open In Colab\"/></a>"
      ]
    },
    {
      "cell_type": "markdown",
      "source": [
        "# ACTIVIDAD 8"
      ],
      "metadata": {
        "id": "Hqq7tlNSHEaF"
      }
    },
    {
      "cell_type": "markdown",
      "source": [
        "1.- Programa en python que genere un número entre el 1 y 10 (no visible) preguntarle al usuario que número cree que generó la computadora, el usuario tendrá 3 oportunidades de adivinar.\n",
        "\n",
        "Decir si adivino o si falló en sus 3 intentos."
      ],
      "metadata": {
        "id": "BJAaiA1QHHrv"
      }
    },
    {
      "cell_type": "code",
      "execution_count": null,
      "metadata": {
        "id": "oDvCmnkkHB7m"
      },
      "outputs": [],
      "source": [
        "import random\n",
        "i=2\n",
        "ganadas = 0\n",
        "perdidas = 0\n",
        "nums = random.randint(0, 10)\n",
        "print(f\"EL NUMERO ES: {nums} \\n\")\n",
        "while True:\n",
        "    res = int(input(\"¿Qué numero crees que genero la computadora? \"))\n",
        "    if res == nums:\n",
        "        print(\"Ganaste, el numero es igual.\")\n",
        "        ganadas = ganadas + 1\n",
        "\n",
        "    else:\n",
        "        print(\"Perdiste, el numero es diferente...\")\n",
        "        perdidas = perdidas + 1\n",
        "\n",
        "    if(i > 0):\n",
        "        i -= 1\n",
        "    else:\n",
        "        print(\"Se acabaron los intentos...\")\n",
        "        break\n",
        "print(f\"Ganaste {ganadas} veces, y perdiste {perdidas}\")"
      ]
    },
    {
      "cell_type": "markdown",
      "source": [
        "2.- El juego Busca Número muestra una lista de 10 numeros, sin mostrar su contenido,\n",
        "\n",
        "Al usuario se le muestra un número que se generó aleatoriamente y el usuario tendrá 3 intentos de adivinar en qué índice del arreglo se encuentra.\n",
        "\n",
        "El usuario recibirá un mensaje que diga GANASTE, PERDISTE, TIENES UN NUEVO INTENTO\n",
        "\n",
        "El usuario podrá jugar cuantas veces lo desee."
      ],
      "metadata": {
        "id": "UAYHF33KHC9N"
      }
    },
    {
      "cell_type": "code",
      "source": [
        "import random\n",
        "\n",
        "def busca_numero():\n",
        "    num = [random.randint(0, 10) for i in range(10)]\n",
        "    random.shuffle(num)\n",
        "    num_sec = random.choice(num)\n",
        "    intentos_rest = 3\n",
        "\n",
        "    print(\"Número generado aleatoriamente: \",num_sec)\n",
        "\n",
        "    while intentos_rest > 0:\n",
        "        intento = int(input(\"Intenta adivinar en qué posición se encuentra el número secreto (1-10): \"))\n",
        "\n",
        "        if intento - 1 < len(num) and num[intento - 1] == num_sec:\n",
        "            print(\"¡GANASTE!\", intento)\n",
        "            break\n",
        "        else:\n",
        "            intentos_rest -= 1\n",
        "            if intentos_rest == 0:\n",
        "                print(\"¡PERDISTE! El número secreto era: \", num_sec)\n",
        "            else:\n",
        "                print(\"Tienes un nuevo intento. Te quedan\", intentos_rest, \"intentos.\")\n",
        "\n",
        "    jugar_nuevamente = input(\"¿Quieres jugar de nuevo? (s/n): \")\n",
        "    if jugar_nuevamente.lower() == \"s\":\n",
        "        busca_numero()\n",
        "    else:\n",
        "        print(\"Gracias por jugar!\")\n",
        "\n",
        "busca_numero()\n"
      ],
      "metadata": {
        "colab": {
          "base_uri": "https://localhost:8080/"
        },
        "id": "oM4XHrOxHVyu",
        "outputId": "8beaa8ff-b592-42e7-8978-ebf7bab98b43"
      },
      "execution_count": 7,
      "outputs": [
        {
          "output_type": "stream",
          "name": "stdout",
          "text": [
            "Número generado aleatoriamente:  1\n",
            "Intenta adivinar en qué posición se encuentra el número secreto (1-10): 1\n",
            "¡GANASTE! 1\n",
            "¿Quieres jugar de nuevo? (s/n): n\n",
            "Gracias por jugar!\n"
          ]
        }
      ]
    }
  ]
}