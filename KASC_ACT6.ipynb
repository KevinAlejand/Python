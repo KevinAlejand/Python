{
  "cells": [
    {
      "cell_type": "markdown",
      "metadata": {
        "id": "view-in-github",
        "colab_type": "text"
      },
      "source": [
        "<a href=\"https://colab.research.google.com/github/KevinAlejand/Python/blob/main/KASC_ACT6.ipynb\" target=\"_parent\"><img src=\"https://colab.research.google.com/assets/colab-badge.svg\" alt=\"Open In Colab\"/></a>"
      ]
    },
    {
      "cell_type": "markdown",
      "metadata": {
        "id": "uAIJN1TYV5A2"
      },
      "source": [
        "# ACTIVIDAD 6\n",
        "FUNCIONES PARA SER LLAMADAS EN EL MENU\n"
      ]
    },
    {
      "cell_type": "code",
      "source": [
        "def valida_num(ri=0, rf=100, msge=\"INGRESE UN NUMERO: \"):\n",
        "    while True:\n",
        "        try:\n",
        "            numero = int(input(f\"{msge} ENTRE {ri} Y {rf}: \"))\n",
        "            if numero < ri or numero > rf:\n",
        "                print(\"FUERA DE RANGO... \")\n",
        "                continue\n",
        "            return numero\n",
        "        except ValueError:\n",
        "            print(\"ERROR: INGRESE SOLO NUMEROS ENTEROS... \")"
      ],
      "metadata": {
        "id": "iQrbU4yto1Dm"
      },
      "execution_count": 73,
      "outputs": []
    },
    {
      "cell_type": "markdown",
      "metadata": {
        "id": "fzKQKv6CV_QF"
      },
      "source": [
        "1.- FUNCIÓN QUE LEA n CANTIDAD DE NÚMEROS HASTA QUE EL USUARIO LO DESEE, DESPLEGAR LA SUMA DE LOS NÚMEROS, MEDIA Y VALOR DE LOS NÚMEROS MAYORES Y MENORES.\n",
        "\n"
      ]
    },
    {
      "cell_type": "code",
      "source": [
        "def calcular_numeros():\n",
        "    numeros = []\n",
        "\n",
        "    while True:\n",
        "        numero = valida_num(msge=\"Ingrese un número: \")\n",
        "        numeros.append(numero)\n",
        "\n",
        "        opcion = input(\"¿Desea ingresar otro número? (s/n): \")\n",
        "        if opcion.lower() != 's':\n",
        "            break\n",
        "\n",
        "    suma = sum(numeros)\n",
        "    cant = len(numeros)\n",
        "    if cant > 0:\n",
        "        media = suma / cant\n",
        "        maximo = max(numeros)\n",
        "        minimo = min(numeros)\n",
        "        may = [num for num in numeros if num > media]\n",
        "        men = [num for num in numeros if num < media]\n",
        "        print(\"Suma de los numeros: \", suma)\n",
        "        print(\"Media de los numeros: \", media)\n",
        "        print(\"Valor de los numeros mayores que la media: \", may)\n",
        "        print(\"Valor de los numeros menores que la media: \", men)\n",
        "    else:\n",
        "        print(\"No se ingresaron numeros. \")\n",
        "\n",
        "calcular_numeros()"
      ],
      "metadata": {
        "colab": {
          "base_uri": "https://localhost:8080/"
        },
        "id": "lAkRZblsblrz",
        "outputId": "83e7a181-ee70-40fd-8d19-4a4448b6ca3a"
      },
      "execution_count": 78,
      "outputs": [
        {
          "output_type": "stream",
          "name": "stdout",
          "text": [
            "Ingrese un número:  ENTRE 0 Y 100: 100\n",
            "¿Desea ingresar otro número? (s/n): s\n",
            "Ingrese un número:  ENTRE 0 Y 100: 50\n",
            "¿Desea ingresar otro número? (s/n): s\n",
            "Ingrese un número:  ENTRE 0 Y 100: 10\n",
            "¿Desea ingresar otro número? (s/n): n\n",
            "Suma de los numeros:  160\n",
            "Media de los numeros:  53.333333333333336\n",
            "Valor de los numeros mayores que la media:  [100]\n",
            "Valor de los numeros menores que la media:  [50, 10]\n"
          ]
        }
      ]
    },
    {
      "cell_type": "markdown",
      "metadata": {
        "id": "gWD8OwanWCOz"
      },
      "source": [
        "2.- FUNCIÓN QUE GENERE 15 NÚMEROS IMPARES ENTRE 10 Y 60 o MÁXIMO DE 25 NÚMEROS. DESPLEGAR LA MEDIA DE LOS PARES Y MEDIA DE IMPARES.\n",
        "\n"
      ]
    },
    {
      "cell_type": "code",
      "execution_count": 79,
      "metadata": {
        "id": "RCxPX6xIWCjP",
        "colab": {
          "base_uri": "https://localhost:8080/"
        },
        "outputId": "e4f937e9-69ab-419e-c7f4-cecc8e817c57"
      },
      "outputs": [
        {
          "output_type": "stream",
          "name": "stdout",
          "text": [
            "Media de los numeros impares:  44.09090909090909\n",
            "Media de los numeros pares:  33.57142857142857\n"
          ]
        }
      ],
      "source": [
        "import random\n",
        "def generar_numeros():\n",
        "    imp = []\n",
        "    par = []\n",
        "\n",
        "    for _ in range(25):\n",
        "        num = random.randint(10, 60)\n",
        "        if num % 2 == 0:\n",
        "            par.append(num)\n",
        "        else:\n",
        "            imp.append(num)\n",
        "        if len(imp) >= 15:\n",
        "            break\n",
        "\n",
        "    medI = sum(imp) / len(imp) if imp else 0\n",
        "    medP = sum(par) / len(par) if par else 0\n",
        "\n",
        "    print(\"Media de los numeros impares: \", medI)\n",
        "    print(\"Media de los numeros pares: \", medP)\n",
        "\n",
        "generar_numeros()\n"
      ]
    },
    {
      "cell_type": "markdown",
      "metadata": {
        "id": "-_Hxh39XWP3u"
      },
      "source": [
        "3.- FUNCIÓN QUE SIRVA PARA LEER UN RANGO DADO POR EL USUARIO. REPETIR ESTA ACCIÓN HASTA QUE EL USUARIO LO DESEE, DESPLEGAR CANTIDAD DE NUMEROS Y PROMEDIO DE LOS NUMEROS..\n",
        "\n"
      ]
    },
    {
      "cell_type": "code",
      "execution_count": 80,
      "metadata": {
        "colab": {
          "base_uri": "https://localhost:8080/"
        },
        "id": "nWXiATZ1pvdx",
        "outputId": "92a7cca1-bf36-452d-a847-3797508f99b5"
      },
      "outputs": [
        {
          "output_type": "stream",
          "name": "stdout",
          "text": [
            "INGRESE UN NUMERO:  ENTRE 0 Y 100: 100\n",
            "¿Desea ingresar otro numero? (s/n): s\n",
            "INGRESE UN NUMERO:  ENTRE 0 Y 100: 40\n",
            "¿Desea ingresar otro numero? (s/n): n\n",
            "Suma de los numeros:  140\n",
            "Media de los numeros:  70.0\n",
            "Numero mayor:  100\n",
            "Numero menor:  40\n"
          ]
        }
      ],
      "source": [
        "def leer_numeros():\n",
        "    numeros = []\n",
        "\n",
        "    while True:\n",
        "        numero = valida_num()\n",
        "        numeros.append(numero)\n",
        "\n",
        "        opcion = input(\"¿Desea ingresar otro numero? (s/n): \")\n",
        "        if opcion.lower() != 's':\n",
        "            break\n",
        "\n",
        "    if numeros:\n",
        "        suma = sum(numeros)\n",
        "        cantidad = len(numeros)\n",
        "        med = suma / cantidad\n",
        "        maximo = max(numeros)\n",
        "        minimo = min(numeros)\n",
        "\n",
        "        print(\"Suma de los numeros: \", suma)\n",
        "        print(\"Media de los numeros: \", med)\n",
        "        print(\"Numero mayor: \", maximo)\n",
        "        print(\"Numero menor: \", minimo)\n",
        "    else:\n",
        "        print(\"No se ingresaron números válidos. \")\n",
        "\n",
        "leer_numeros()"
      ]
    },
    {
      "cell_type": "markdown",
      "metadata": {
        "id": "jlAnpniVWTwU"
      },
      "source": [
        "4.- FUNCIÓN QUE RECIBA COMO PARÁMETRO LOS VALORES PARA EL ÁREA DE UN TRIANGULO Y RETORNE SU RESULTADO\n",
        "\n"
      ]
    },
    {
      "cell_type": "code",
      "execution_count": 81,
      "metadata": {
        "id": "IZOOV0dWWUDP",
        "colab": {
          "base_uri": "https://localhost:8080/"
        },
        "outputId": "f8aa1955-d2c4-4ee8-ee90-ed49faa3bef9"
      },
      "outputs": [
        {
          "output_type": "stream",
          "name": "stdout",
          "text": [
            "Ingrese los valores para el área del triángulo... \n",
            "Ingrese la base del triángulo: 20\n",
            "Ingrese la altura del triángulo: 10\n",
            "El área del triángulo es:  100.0\n"
          ]
        }
      ],
      "source": [
        "def cal_area_tri():\n",
        "    print(\"Ingrese los valores para el área del triángulo... \")\n",
        "    base = int (input(\"Ingrese la base del triángulo: \"))\n",
        "    altura = int (input(\"Ingrese la altura del triángulo: \"))\n",
        "    area = (base * altura) / 2\n",
        "    print(\"El área del triángulo es: \", area)\n",
        "\n",
        "cal_area_tri()"
      ]
    },
    {
      "cell_type": "markdown",
      "metadata": {
        "id": "Q0BNYfEfWZIw"
      },
      "source": [
        "5.- FUNCION QUE SIRVA QUE SIRVA PARA EVALUAR EL PROMEDIO DE 3 CALIFICACIONES DADAS, SI EL USUARIO SU CALIFICACION ES APROBADA MANDAR MSGE QUE DIGA \"felicidades avanzas al siguiente semestre\", SI LA CALIFICACIONE ESTA REPROBADA EL MENSAGE \"repetir materia \" EL ALUMNO TENDRA UN MAXIMO DE CURSAR 3 VESES LA MATERIA, SI LA REPRUEBA 3 VESES MANDAR MSGE \" lastima estas fuera de la UABC\"\n",
        "\n"
      ]
    },
    {
      "cell_type": "code",
      "execution_count": 82,
      "metadata": {
        "id": "vD5t8RONWZik",
        "colab": {
          "base_uri": "https://localhost:8080/"
        },
        "outputId": "04785384-4e6b-4245-a72e-0991134d46c0"
      },
      "outputs": [
        {
          "output_type": "stream",
          "name": "stdout",
          "text": [
            "Ingrese la primera calificación: ENTRE 0 Y 100: 100\n",
            "Ingrese la segunda calificación: ENTRE 0 Y 100: 80\n",
            "Ingrese la tercera calificación: ENTRE 0 Y 100: 100\n",
            "Felicidades, avanzas al siguiente semestre.\n"
          ]
        }
      ],
      "source": [
        "def evaluar_calificaciones():\n",
        "    intentos = 0\n",
        "\n",
        "    while intentos < 3:\n",
        "        calificacion1 = valida_num(0, 100, \"Ingrese la primera calificación:\")\n",
        "        calificacion2 = valida_num(0, 100, \"Ingrese la segunda calificación:\")\n",
        "        calificacion3 = valida_num(0, 100, \"Ingrese la tercera calificación:\")\n",
        "\n",
        "        prom = (calificacion1 + calificacion2 + calificacion3) / 3\n",
        "\n",
        "        if prom >= 70:\n",
        "            print(\"Felicidades, avanzas al siguiente semestre.\")\n",
        "            break\n",
        "        else:\n",
        "            intentos += 1\n",
        "            if intentos == 3:\n",
        "                print(\"Lo siento, has reprobado la materia tres veces. Estás fuera de la UABC.\")\n",
        "            else:\n",
        "                print(\"Repetir materia.\")\n",
        "\n",
        "evaluar_calificaciones()"
      ]
    },
    {
      "cell_type": "code",
      "source": [
        "def menu():\n",
        "    while True:\n",
        "        print(\"\\n----- MENÚ -----\")\n",
        "        print(\"1. CANTIDAD DE NÚMEROS HASTA QUE EL USUARIO LO DESEE. \")\n",
        "        print(\"2. GENERE 15 NÚMEROS IMPARES ENTRE 10 Y 60 o MÁXIMO DE 25 NÚMEROS. \")\n",
        "        print(\"3. RANGO DADO POR EL USUARIO. \")\n",
        "        print(\"4. AREA TRIANGULO. \")\n",
        "        print(\"5. EVALUAR PROMEDIO. \")\n",
        "        print(\"6. Salir. \\n\")\n",
        "\n",
        "        opcion = int(input(\"Seleccione una opción (1-6): \"))\n",
        "\n",
        "        if opcion == 1:\n",
        "            calcular_numeros()\n",
        "        elif opcion == 2:\n",
        "            generar_numeros()\n",
        "        elif opcion == 3:\n",
        "            leer_numeros()\n",
        "        elif opcion == 4:\n",
        "            cal_area_tri()\n",
        "        elif opcion == 5:\n",
        "             evaluar_calificaciones()\n",
        "        elif opcion == 6:\n",
        "            print(\"¡Adiós!\")\n",
        "            break\n",
        "        else:\n",
        "            print(\"Opción no válida. Intente de nuevo.\")\n",
        "\n",
        "menu()"
      ],
      "metadata": {
        "colab": {
          "base_uri": "https://localhost:8080/"
        },
        "id": "tngHWmQFbd-f",
        "outputId": "da2219e6-af0c-48b2-9992-4fb06cef6c84"
      },
      "execution_count": null,
      "outputs": [
        {
          "output_type": "stream",
          "name": "stdout",
          "text": [
            "\n",
            "----- MENÚ -----\n",
            "1. CANTIDAD DE NÚMEROS HASTA QUE EL USUARIO LO DESEE. \n",
            "2. GENERE 15 NÚMEROS IMPARES ENTRE 10 Y 60 o MÁXIMO DE 25 NÚMEROS. \n",
            "3. RANGO DADO POR EL USUARIO. \n",
            "4. AREA TRIANGULO. \n",
            "5. EVALUAR PROMEDIO. \n",
            "6. Salir. \n",
            "\n",
            "Seleccione una opción (1-6): 4\n",
            "Ingrese los valores para el área del triángulo... \n",
            "Ingrese la base del triángulo: 10\n",
            "Ingrese la altura del triángulo: 2\n",
            "El área del triángulo es:  10.0\n",
            "\n",
            "----- MENÚ -----\n",
            "1. CANTIDAD DE NÚMEROS HASTA QUE EL USUARIO LO DESEE. \n",
            "2. GENERE 15 NÚMEROS IMPARES ENTRE 10 Y 60 o MÁXIMO DE 25 NÚMEROS. \n",
            "3. RANGO DADO POR EL USUARIO. \n",
            "4. AREA TRIANGULO. \n",
            "5. EVALUAR PROMEDIO. \n",
            "6. Salir. \n",
            "\n",
            "Seleccione una opción (1-6): 5\n",
            "Ingrese la primera calificación: ENTRE 0 Y 100: 100\n",
            "Ingrese la segunda calificación: ENTRE 0 Y 100: 100\n",
            "Ingrese la tercera calificación: ENTRE 0 Y 100: 100\n",
            "Felicidades, avanzas al siguiente semestre.\n",
            "\n",
            "----- MENÚ -----\n",
            "1. CANTIDAD DE NÚMEROS HASTA QUE EL USUARIO LO DESEE. \n",
            "2. GENERE 15 NÚMEROS IMPARES ENTRE 10 Y 60 o MÁXIMO DE 25 NÚMEROS. \n",
            "3. RANGO DADO POR EL USUARIO. \n",
            "4. AREA TRIANGULO. \n",
            "5. EVALUAR PROMEDIO. \n",
            "6. Salir. \n",
            "\n"
          ]
        }
      ]
    }
  ],
  "metadata": {
    "colab": {
      "provenance": [],
      "authorship_tag": "ABX9TyPJRgW0ukJ5ildhvRkR8OPS",
      "include_colab_link": true
    },
    "kernelspec": {
      "display_name": "Python 3",
      "name": "python3"
    },
    "language_info": {
      "name": "python"
    }
  },
  "nbformat": 4,
  "nbformat_minor": 0
}