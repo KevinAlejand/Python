{
  "nbformat": 4,
  "nbformat_minor": 0,
  "metadata": {
    "colab": {
      "provenance": [],
      "authorship_tag": "ABX9TyPxkQZbwn80pa1g4UHH6c6D",
      "include_colab_link": true
    },
    "kernelspec": {
      "name": "python3",
      "display_name": "Python 3"
    },
    "language_info": {
      "name": "python"
    }
  },
  "cells": [
    {
      "cell_type": "markdown",
      "metadata": {
        "id": "view-in-github",
        "colab_type": "text"
      },
      "source": [
        "<a href=\"https://colab.research.google.com/github/KevinAlejand/Python/blob/main/KASC_act2.ipynb\" target=\"_parent\"><img src=\"https://colab.research.google.com/assets/colab-badge.svg\" alt=\"Open In Colab\"/></a>"
      ]
    },
    {
      "cell_type": "markdown",
      "source": [
        "\n",
        "1.- Programa en Python que lea 2 números enteros, usar una condición y analizar los dos números y desplegar cual de los números es el mayor. 1\n",
        "\n"
      ],
      "metadata": {
        "id": "xNS8U8zb_oeH"
      }
    },
    {
      "cell_type": "code",
      "execution_count": null,
      "metadata": {
        "colab": {
          "base_uri": "https://localhost:8080/"
        },
        "id": "YZH2a3d__fo5",
        "outputId": "b7ee4d45-f056-4b08-c7e5-97e35aab247c"
      },
      "outputs": [
        {
          "output_type": "stream",
          "name": "stdout",
          "text": [
            "Escriba un número entero: 10\n",
            "Escriba otro número entero: 11\n",
            "El numero mayor es:  11\n"
          ]
        }
      ],
      "source": [
        "num1 = int(input(\"Escriba un número entero: \"))\n",
        "num2 = int(input(\"Escriba otro número entero: \"))\n",
        "\n",
        "if num1 > num2:\n",
        "    print(\"El numero mayor es \", num1)\n",
        "if num2 > num1:\n",
        "    print(\"El numero mayor es: \", num2)"
      ]
    },
    {
      "cell_type": "markdown",
      "source": [
        " 2.- Programa en PythonAlgoritmo que lea 4 calificaciones de un alumno, calcular y desplegar el promedio acompañado de la leyenda \"APROBADO\" o \"REPROBADO\""
      ],
      "metadata": {
        "id": "Jg-ybAaBSm_3"
      }
    },
    {
      "cell_type": "code",
      "source": [
        "cal1 = int(input(\"Digite calificacion 1: \"))\n",
        "cal2 = int(input(\"Digite calificacion 2: \"))\n",
        "cal3 = int(input(\"Digite calificacion 3: \"))\n",
        "cal4 = int(input(\"Digite calificacion 4: \"))\n",
        "prom = (cal1 + cal2 + cal3 + cal4)/4\n",
        "if prom > 6:\n",
        " print(\"APROBADO\")\n",
        "if prom < 6:\n",
        " print(\"REPROBADO\")"
      ],
      "metadata": {
        "colab": {
          "base_uri": "https://localhost:8080/"
        },
        "id": "LF_akV84_47H",
        "outputId": "6cbec540-7623-409b-b67c-9ec5e3581fbb"
      },
      "execution_count": null,
      "outputs": [
        {
          "output_type": "stream",
          "name": "stdout",
          "text": [
            "Digite calificacion 1: 10\n",
            "Digite calificacion 2: 10\n",
            "Digite calificacion 3: 10\n",
            "Digite calificacion 4: 10\n",
            "APROBADO\n"
          ]
        }
      ]
    },
    {
      "cell_type": "markdown",
      "source": [
        " 3.- Programa en PythonAlgoritmo que a través de opciones (1.- HOMBRE 2.- MUJER ) preguntar al usuario cual es su sexo y desplegar la leyenda “HOMBRE ”, “MUJER”"
      ],
      "metadata": {
        "id": "dKPo1C1wVo5V"
      }
    },
    {
      "cell_type": "code",
      "source": [
        " sex = int(input(\"SELECCIONE UNA OPCION \\n 1.- HOMBRE \\n 2.- MUJER \\n\"))\n",
        "if sex == 1:\n",
        "   print(\"ERES HOMBRE \")\n",
        "if sex == 2:\n",
        "   print(\"ERES MUJER\")"
      ],
      "metadata": {
        "colab": {
          "base_uri": "https://localhost:8080/"
        },
        "id": "6BxFJqPrVpt7",
        "outputId": "fc064e7e-0f64-42ce-c354-04130e481ada"
      },
      "execution_count": null,
      "outputs": [
        {
          "output_type": "stream",
          "name": "stdout",
          "text": [
            "SELECCIONE UNA OPCION \n",
            " 1.- HOMBRE \n",
            " 2.- MUJER \n",
            "1\n",
            "ERES HOMBRE \n"
          ]
        }
      ]
    },
    {
      "cell_type": "markdown",
      "source": [
        "4.- Programa en Python que lea un número entero, y desplegar si el número es “PAR” o “IMPAR”"
      ],
      "metadata": {
        "id": "4FHYkTQNXAAz"
      }
    },
    {
      "cell_type": "code",
      "source": [
        "num = int(input(\"Escriba un número entero: \"))\n",
        "if num % 2 == 0:\n",
        "    print(f\"{num} es PAR\")\n",
        "if num % 2 != 0:\n",
        "    print(f\"{num} es IMPAR\")"
      ],
      "metadata": {
        "colab": {
          "base_uri": "https://localhost:8080/"
        },
        "id": "aheOMILiWSTu",
        "outputId": "17471d32-78f0-4d33-9584-fafc8377b0cf"
      },
      "execution_count": null,
      "outputs": [
        {
          "output_type": "stream",
          "name": "stdout",
          "text": [
            "Escriba un número entero: 3\n",
            "3 es IMPAR\n"
          ]
        }
      ]
    },
    {
      "cell_type": "markdown",
      "source": [
        "5.- Programa en Python que lea 2 números enteros, usar una condición y analizar los dos números y desplegar cual de los números es el mayor."
      ],
      "metadata": {
        "id": "JjA0En0gYbUa"
      }
    },
    {
      "cell_type": "code",
      "source": [
        "num1 = int(input(\"Escriba un número entero: \"))\n",
        "num2 = int(input(\"Escriba otro número entero: \"))\n",
        "if num1 > num2:\n",
        "  print(f\"El numero {num1} es mayor que el numero {num2}.\")\n",
        "elif num2 > num1:\n",
        "  print(f\"El numero {num2} es mayor que el numero {num1}.\")\n",
        "else:\n",
        "  print(\"SON IGUALES\")"
      ],
      "metadata": {
        "colab": {
          "base_uri": "https://localhost:8080/"
        },
        "id": "4SZIYJpzYcUc",
        "outputId": "c992c52c-0073-4b93-e2e0-b55441ada982"
      },
      "execution_count": null,
      "outputs": [
        {
          "output_type": "stream",
          "name": "stdout",
          "text": [
            "Escriba un número entero: 3\n",
            "Escriba otro número entero: 4\n",
            "El numero 4 es mayor que el numero 3.\n"
          ]
        }
      ]
    },
    {
      "cell_type": "markdown",
      "source": [
        "6.- Programa en Python que lea 4 calificaciones de un alumno, calcular y desplegar el promedio acompañado de la leyenda APROBADO o REPROBADO"
      ],
      "metadata": {
        "id": "IbyDZlrRaMqj"
      }
    },
    {
      "cell_type": "code",
      "source": [
        "\n",
        "cal1 = int(input(\"Digite calificacion 1: \"))\n",
        "cal2 = int(input(\"Digite calificacion 2: \"))\n",
        "cal3 = int(input(\"Digite calificacion 3: \"))\n",
        "cal4 = int(input(\"Digite calificacion 4: \"))\n",
        "prom = (cal1 + cal2 + cal3 + cal4)/4\n",
        "if prom >= 6:\n",
        " print(\"APROBADO\")\n",
        "else:\n",
        " print(\"REPROBADO\")"
      ],
      "metadata": {
        "colab": {
          "base_uri": "https://localhost:8080/"
        },
        "id": "6T4nCuidYx7W",
        "outputId": "5ea4707e-3a99-485b-b0a4-c7423ef517ec"
      },
      "execution_count": null,
      "outputs": [
        {
          "output_type": "stream",
          "name": "stdout",
          "text": [
            "Digite calificacion 1: 5\n",
            "Digite calificacion 2: 6\n",
            "Digite calificacion 3: 7\n",
            "Digite calificacion 4: 5\n",
            "REPROBADO\n"
          ]
        }
      ]
    },
    {
      "cell_type": "markdown",
      "source": [
        "7.- Programa en Python que a través de opciones (1.- HOMBRE 2.- MUJER ) preguntar al usuario cual es su sexo y desplegar la leyenda “HOMBRE ”, “MUJER”"
      ],
      "metadata": {
        "id": "7v9V0R9T-nAf"
      }
    },
    {
      "cell_type": "code",
      "source": [
        " sex = int(input(\"SELECCIONE UNA OPCION \\n 1.- HOMBRE \\n 2.- MUJER \\n\"))\n",
        "if sex == 1:\n",
        "   print(\"ERES HOMBRE \")\n",
        "else:\n",
        "   print(\"ERES MUJER\")"
      ],
      "metadata": {
        "id": "Z3gYOfZk-n8h"
      },
      "execution_count": null,
      "outputs": []
    },
    {
      "cell_type": "markdown",
      "source": [
        "8.- Programa en Python que lea un número entero, y desplegar si el número es “PAR” o “IMPAR”"
      ],
      "metadata": {
        "id": "T6Snbubj_Kia"
      }
    },
    {
      "cell_type": "code",
      "source": [
        "num = int(input(\"Escriba un número entero: \"))\n",
        "if num % 2 == 0:\n",
        "    print(f\"{num} es PAR\")\n",
        "else:\n",
        "    print(f\"{num} es IMPAR\")\n"
      ],
      "metadata": {
        "colab": {
          "base_uri": "https://localhost:8080/"
        },
        "id": "xbTYjQyj_Lvl",
        "outputId": "eb5f2aad-4a2e-4448-fa1d-88acff6bb120"
      },
      "execution_count": null,
      "outputs": [
        {
          "output_type": "stream",
          "name": "stdout",
          "text": [
            "Escriba un número entero: 3\n",
            "3 es IMPAR\n"
          ]
        }
      ]
    }
  ]
}