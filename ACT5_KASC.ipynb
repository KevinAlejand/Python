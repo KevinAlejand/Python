{
  "nbformat": 4,
  "nbformat_minor": 0,
  "metadata": {
    "colab": {
      "provenance": [],
      "authorship_tag": "ABX9TyP2p0TX/bn/VXU0qa771g3s",
      "include_colab_link": true
    },
    "kernelspec": {
      "name": "python3",
      "display_name": "Python 3"
    },
    "language_info": {
      "name": "python"
    }
  },
  "cells": [
    {
      "cell_type": "markdown",
      "metadata": {
        "id": "view-in-github",
        "colab_type": "text"
      },
      "source": [
        "<a href=\"https://colab.research.google.com/github/KevinAlejand/Python/blob/main/ACT5_KASC.ipynb\" target=\"_parent\"><img src=\"https://colab.research.google.com/assets/colab-badge.svg\" alt=\"Open In Colab\"/></a>"
      ]
    },
    {
      "cell_type": "markdown",
      "source": [
        "1.- Programa en Python que genere 40 números aleatorios entre el 0 y 200, desplegar los números y la leyenda de cada número si es par o impar , la cantidad de los números pares e impares así como la suma de los números pares o impares."
      ],
      "metadata": {
        "id": "YFhfcxCepuoK"
      }
    },
    {
      "cell_type": "code",
      "execution_count": null,
      "metadata": {
        "id": "YxszVMajkSip",
        "colab": {
          "base_uri": "https://localhost:8080/"
        },
        "outputId": "4e7d321e-efa2-4429-a103-66dd8ea17252"
      },
      "outputs": [
        {
          "output_type": "stream",
          "name": "stdout",
          "text": [
            "número 1.- Número: 193 - impar\n",
            "número 2.- Número: 10 - par\n",
            "número 3.- Número: 54 - par\n",
            "número 4.- Número: 145 - impar\n",
            "número 5.- Número: 167 - impar\n",
            "número 6.- Número: 65 - impar\n",
            "número 7.- Número: 95 - impar\n",
            "número 8.- Número: 43 - impar\n",
            "número 9.- Número: 45 - impar\n",
            "número 10.- Número: 198 - par\n",
            "número 11.- Número: 19 - impar\n",
            "número 12.- Número: 152 - par\n",
            "número 13.- Número: 91 - impar\n",
            "número 14.- Número: 96 - par\n",
            "número 15.- Número: 142 - par\n",
            "número 16.- Número: 34 - par\n",
            "número 17.- Número: 13 - impar\n",
            "número 18.- Número: 27 - impar\n",
            "número 19.- Número: 94 - par\n",
            "número 20.- Número: 181 - impar\n",
            "número 21.- Número: 167 - impar\n",
            "número 22.- Número: 57 - impar\n",
            "número 23.- Número: 164 - par\n",
            "número 24.- Número: 37 - impar\n",
            "número 25.- Número: 174 - par\n",
            "número 26.- Número: 162 - par\n",
            "número 27.- Número: 115 - impar\n",
            "número 28.- Número: 135 - impar\n",
            "número 29.- Número: 171 - impar\n",
            "número 30.- Número: 197 - impar\n",
            "número 31.- Número: 198 - par\n",
            "número 32.- Número: 30 - par\n",
            "número 33.- Número: 70 - par\n",
            "número 34.- Número: 57 - impar\n",
            "número 35.- Número: 81 - impar\n",
            "número 36.- Número: 32 - par\n",
            "número 37.- Número: 99 - impar\n",
            "número 38.- Número: 130 - par\n",
            "número 39.- Número: 25 - impar\n",
            "número 40.- Número: 64 - par\n",
            "\n",
            "Cantidad de pares: 17\n",
            "Suma de pares: 1804\n",
            "\n",
            "Cantidad de impares: 23\n",
            "Suma de impares: 2225\n"
          ]
        }
      ],
      "source": [
        "import random\n",
        "\n",
        "nums = [random.randint(0, 200) for _ in range(40)]\n",
        "\n",
        "pares = 0\n",
        "sum_pares = 0\n",
        "impares = 0\n",
        "sum_impares = 0\n",
        "\n",
        "for i, num in enumerate(nums, start=1):\n",
        "    if num % 2 == 0:\n",
        "        tipo = \"par\"\n",
        "        pares += 1\n",
        "        sum_pares += num\n",
        "    else:\n",
        "        tipo = \"impar\"\n",
        "        impares += 1\n",
        "        sum_impares += num\n",
        "\n",
        "    print(f\"número {i}.- Número: {num} - {tipo}\")\n",
        "\n",
        "print(f\"\\nCantidad de pares: {pares}\")\n",
        "print(f\"Suma de pares: {sum_pares}\")\n",
        "print(f\"\\nCantidad de impares: {impares}\")\n",
        "print(f\"Suma de impares: {sum_impares}\")\n"
      ]
    },
    {
      "cell_type": "markdown",
      "source": [
        "\n",
        "2.- Programa en Python que despliegue la tabla de multiplicar de un número dado (número entre el 1 y 20).\n"
      ],
      "metadata": {
        "id": "kcDA3ae3pwxo"
      }
    },
    {
      "cell_type": "code",
      "source": [
        "num = int(input(\"Ingrese un número entre 1 y 20: \"))\n",
        "\n",
        "if num < 1 or num > 20:\n",
        "    print(\"Número fuera del rango permitido.\")\n",
        "else:\n",
        "    print(f\"Tabla de multiplicar del {num}:\")\n",
        "    for i in range(1, 11):\n",
        "        res = num * i\n",
        "        print(f\"{num} x {i} = {res}\")\n"
      ],
      "metadata": {
        "colab": {
          "base_uri": "https://localhost:8080/"
        },
        "id": "Sh2oJnlXpxGo",
        "outputId": "4d654a79-ee56-4555-f7ad-28949e23b218"
      },
      "execution_count": null,
      "outputs": [
        {
          "output_type": "stream",
          "name": "stdout",
          "text": [
            "Ingrese un número entre 1 y 20: 11\n",
            "Tabla de multiplicar del 11:\n",
            "11 x 1 = 11\n",
            "11 x 2 = 22\n",
            "11 x 3 = 33\n",
            "11 x 4 = 44\n",
            "11 x 5 = 55\n",
            "11 x 6 = 66\n",
            "11 x 7 = 77\n",
            "11 x 8 = 88\n",
            "11 x 9 = 99\n",
            "11 x 10 = 110\n"
          ]
        }
      ]
    },
    {
      "cell_type": "markdown",
      "source": [
        "3.- Programa en Python que lea una calificación, las calificación deberá estar en el rango de 0 a 100, si hay un error de captura, mostrar mensaje de error. con la calificación correcta mostrar msg de aprobado reprobado.\n",
        "\n"
      ],
      "metadata": {
        "id": "9Pl8iR7CqUeQ"
      }
    },
    {
      "cell_type": "code",
      "source": [
        "calificacion = float(input(\"Ingrese la calificación (entre 0 y 100): \"))\n",
        "\n",
        "if calificacion >= 0 and calificacion <= 100:\n",
        "    if calificacion >= 60:\n",
        "        print(\"¡Aprobado!\")\n",
        "    else:\n",
        "        print(\"Reprobado\")\n",
        "else:\n",
        "    print(\"Error: La calificación debe estar en el rango de 0 a 100.\")\n"
      ],
      "metadata": {
        "id": "qtCTlbpsqU1w",
        "colab": {
          "base_uri": "https://localhost:8080/"
        },
        "outputId": "e5ffa5a1-0612-4831-cba0-94a564476999"
      },
      "execution_count": null,
      "outputs": [
        {
          "output_type": "stream",
          "name": "stdout",
          "text": [
            "Ingrese la calificación (entre 0 y 100): 100\n",
            "¡Aprobado!\n"
          ]
        }
      ]
    },
    {
      "cell_type": "markdown",
      "source": [
        "4.- Programa en Python que lea n cantidad de números enteros dentro de un rango dado (> 0 ) , el programa deberá terminar cuando el usuario introduzca el número cero.\n",
        "\n",
        "desplegar la suma de números y la media."
      ],
      "metadata": {
        "id": "ELzJS9u9qZHI"
      }
    },
    {
      "cell_type": "code",
      "source": [
        "suma = 0\n",
        "cantidad = 0\n",
        "\n",
        "while True:\n",
        "    numero = int(input(\"Ingrese un número (0 para terminar): \"))\n",
        "\n",
        "    if numero == 0:\n",
        "        break\n",
        "\n",
        "    if numero < 0:\n",
        "        print(\"Error: El número debe ser mayor que 0.\")\n",
        "        continue\n",
        "\n",
        "    suma += numero\n",
        "    cantidad += 1\n",
        "\n",
        "if cantidad == 0:\n",
        "    print(\"No se ingresaron números válidos.\")\n",
        "else:\n",
        "    media = suma / cantidad\n",
        "    print(f\"Suma de números: {suma}\")\n",
        "    print(f\"Media: {media}\")\n"
      ],
      "metadata": {
        "id": "iiXNdPfOqfjX",
        "colab": {
          "base_uri": "https://localhost:8080/"
        },
        "outputId": "b1b81d77-31dc-47f1-b49c-9e5731812a1b"
      },
      "execution_count": null,
      "outputs": [
        {
          "output_type": "stream",
          "name": "stdout",
          "text": [
            "Ingrese un número (0 para terminar): 10\n",
            "Ingrese un número (0 para terminar): 30\n",
            "Ingrese un número (0 para terminar): 40\n",
            "Ingrese un número (0 para terminar): 0\n",
            "Suma de números: 80\n",
            "Media: 26.666666666666668\n"
          ]
        }
      ]
    },
    {
      "cell_type": "markdown",
      "source": [
        "5.- Programa en Python que sirva para leer el promedio de una materia. donde el usuario tendrá un máximo de 3 oportunidades de cursar la materia, si el promedio es aprobado, felicitarlo y continuar el siguiente semestre, si promedio es reprobado deberá salir mensaje de repetir materia o es baja académica si ha reprobado 3 veces."
      ],
      "metadata": {
        "id": "fTbr9jPrqcnn"
      }
    },
    {
      "cell_type": "code",
      "source": [
        "def revisar_promedio(promedio):\n",
        "    if promedio >= 60:\n",
        "        print(\"¡Felicidades! Has aprobado la materia.\")\n",
        "        return True\n",
        "    else:\n",
        "        return False\n",
        "\n",
        "intentos_maximos = 3\n",
        "\n",
        "for intento in range(1, intentos_maximos + 1):\n",
        "    promedio = float(input(f\"Ingrese el promedio de la materia (Intento {intento}): \"))\n",
        "    if revisar_promedio(promedio):\n",
        "        break\n",
        "else:\n",
        "    print(\"Lo siento, has reprobado la materia.\")\n",
        "\n",
        "    if intento == intentos_maximos:\n",
        "        print(\"Esto significa una baja académica. Debes repetir la materia.\")\n",
        "    else:\n",
        "        print(\"Debes repetir la materia en el próximo semestre.\")\n"
      ],
      "metadata": {
        "id": "u8cTOEbnqjrX",
        "colab": {
          "base_uri": "https://localhost:8080/"
        },
        "outputId": "1b910c51-d19e-4964-a8a4-7ac9530570cd"
      },
      "execution_count": null,
      "outputs": [
        {
          "output_type": "stream",
          "name": "stdout",
          "text": [
            "Ingrese el promedio de la materia (Intento 1): 40\n",
            "Ingrese el promedio de la materia (Intento 2): 40\n",
            "Ingrese el promedio de la materia (Intento 3): 50\n",
            "Lo siento, has reprobado la materia.\n",
            "Esto significa una baja académica. Debes repetir la materia.\n"
          ]
        }
      ]
    },
    {
      "cell_type": "markdown",
      "source": [
        "# PARTE 2:"
      ],
      "metadata": {
        "id": "SJO2zF4_qjT_"
      }
    },
    {
      "cell_type": "markdown",
      "source": [
        "1.- función que lea n cantidad de números hasta que el usuario lo desee, desplegar la suma de los números, media y valor de los números mayores y menores.\n",
        "\n"
      ],
      "metadata": {
        "id": "tfdphqkWrGOn"
      }
    },
    {
      "cell_type": "code",
      "source": [
        "def leer_numeros():\n",
        "    numeros = []\n",
        "\n",
        "    while True:\n",
        "        numero = float(input(\"Ingrese un número: \"))\n",
        "        numeros.append(numero)\n",
        "\n",
        "        opcion = input(\"¿Desea ingresar otro número? (s/n): \")\n",
        "        if opcion.lower() != 's':\n",
        "            break\n",
        "\n",
        "    suma = sum(numeros)\n",
        "    cantidad = len(numeros)\n",
        "    media = suma / cantidad\n",
        "    maximo = max(numeros)\n",
        "    minimo = min(numeros)\n",
        "\n",
        "    print(\"Suma de los números:\", suma)\n",
        "    print(\"Media de los números:\", media)\n",
        "    print(\"Número mayor:\", maximo)\n",
        "    print(\"Número menor:\", minimo)\n",
        "\n",
        "leer_numeros()\n"
      ],
      "metadata": {
        "id": "fI65DFDrqkJ_",
        "colab": {
          "base_uri": "https://localhost:8080/"
        },
        "outputId": "c65437d6-5e68-4976-bc62-1c8f5ec2ebd1"
      },
      "execution_count": null,
      "outputs": [
        {
          "output_type": "stream",
          "name": "stdout",
          "text": [
            "Ingrese un número: 10\n",
            "¿Desea ingresar otro número? (s/n): s\n",
            "Ingrese un número: 20\n",
            "¿Desea ingresar otro número? (s/n): n\n",
            "Suma de los números: 30.0\n",
            "Media de los números: 15.0\n",
            "Número mayor: 20.0\n",
            "Número menor: 10.0\n"
          ]
        }
      ]
    },
    {
      "cell_type": "markdown",
      "source": [
        "2.- función que genere 15 números impares entre 10 y 60 o máximo de 25 números. desplegar la media de los pares y media de impares\n",
        "\n"
      ],
      "metadata": {
        "id": "uueSRuBmrV9P"
      }
    },
    {
      "cell_type": "code",
      "source": [
        "import random\n",
        "\n",
        "def generar_impares():\n",
        "    impares = []\n",
        "    cantidad_maxima = 25\n",
        "    cantidad_generada = 0\n",
        "\n",
        "    while cantidad_generada < cantidad_maxima:\n",
        "        numero = random.randint(10, 60)\n",
        "        if numero % 2 != 0:\n",
        "            impares.append(numero)\n",
        "            cantidad_generada += 1\n",
        "    return impares\n",
        "\n",
        "def calcular_medias(impares):\n",
        "    impares_suma = sum(impares)\n",
        "    impares_media = impares_suma / len(impares) if len(impares) > 0 else 0\n",
        "\n",
        "    pares = [numero for numero in impares if numero % 2 == 0]\n",
        "    pares_suma = sum(pares)\n",
        "    pares_media = pares_suma / len(pares) if len(pares) > 0 else 0\n",
        "\n",
        "    return pares_media, impares_media\n",
        "\n",
        "# Programa principal\n",
        "numeros_impares = generar_impares()\n",
        "media_pares, media_impares = calcular_medias(numeros_impares)\n",
        "\n",
        "print(\"Números impares generados:\", numeros_impares)\n",
        "print(\"Media de los números pares:\", media_pares)\n",
        "print(\"Media de los números impares:\", media_impares)\n"
      ],
      "metadata": {
        "id": "pZ1uw87CrWPH",
        "colab": {
          "base_uri": "https://localhost:8080/"
        },
        "outputId": "9ad231cc-eb06-4c45-cfba-9eac2119ac59"
      },
      "execution_count": null,
      "outputs": [
        {
          "output_type": "stream",
          "name": "stdout",
          "text": [
            "Números impares generados: [53, 19, 37, 37, 55, 21, 39, 19, 29, 59, 47, 45, 35, 43, 37, 59, 45, 21, 27, 51, 19, 41, 15, 33, 21]\n",
            "Media de los números pares: 0\n",
            "Media de los números impares: 36.28\n"
          ]
        }
      ]
    },
    {
      "cell_type": "markdown",
      "source": [
        "3.- función que sirva para leer y validar un número dentro de un rango dado por el usuario. repetir esta acción hasta que el usuario lo desee, desplegar cantidad de números y promedio de los números..\n",
        "\n"
      ],
      "metadata": {
        "id": "tGBR_6mAreM-"
      }
    },
    {
      "cell_type": "code",
      "source": [
        "def leer_numero(rango_min, rango_max):\n",
        "    while True:\n",
        "        try:\n",
        "            numero = float(input(f\"Ingrese un número entre {rango_min} y {rango_max}: \"))\n",
        "            if rango_min <= numero <= rango_max:\n",
        "                return numero\n",
        "            else:\n",
        "                print(f\"Error: El número debe estar dentro del rango {rango_min} y {rango_max}.\")\n",
        "        except ValueError:\n",
        "            print(\"Error: Ingrese un número válido.\")\n",
        "\n",
        "def main():\n",
        "    numeros = []\n",
        "\n",
        "    while True:\n",
        "        numero = leer_numero(1, 100)\n",
        "\n",
        "        numeros.append(numero)\n",
        "\n",
        "        continuar = input(\"¿Desea ingresar otro número? (s/n): \")\n",
        "        if continuar.lower() != 's':\n",
        "            break\n",
        "\n",
        "    cantidad_numeros = len(numeros)\n",
        "    suma_numeros = sum(numeros)\n",
        "\n",
        "    if cantidad_numeros > 0:\n",
        "        promedio = suma_numeros / cantidad_numeros\n",
        "        print(f\"\\nCantidad de números ingresados: {cantidad_numeros}\")\n",
        "        print(f\"Promedio de los números: {promedio}\")\n",
        "    else:\n",
        "        print(\"No se ingresaron números.\")\n",
        "\n",
        "if __name__ == \"__main__\":\n",
        "    main()\n"
      ],
      "metadata": {
        "id": "tBCPqwXLrh0n",
        "colab": {
          "base_uri": "https://localhost:8080/"
        },
        "outputId": "fdc5e4d5-1c29-4dbc-9ae9-5ca725eda5a8"
      },
      "execution_count": 1,
      "outputs": [
        {
          "output_type": "stream",
          "name": "stdout",
          "text": [
            "Ingrese un número entre 1 y 100: 44\n",
            "¿Desea ingresar otro número? (s/n): s\n",
            "Ingrese un número entre 1 y 100: 55\n",
            "¿Desea ingresar otro número? (s/n): n\n",
            "\n",
            "Cantidad de números ingresados: 2\n",
            "Promedio de los números: 49.5\n"
          ]
        }
      ]
    },
    {
      "cell_type": "markdown",
      "source": [
        "4.- función que reciba como parámetro los valores para el área de un triángulo y retorne su resultado\n",
        "\n"
      ],
      "metadata": {
        "id": "QAE_xmI-riGf"
      }
    },
    {
      "cell_type": "code",
      "source": [
        "import math\n",
        "\n",
        "def calcular_area_triangulo(a, b, c):\n",
        "    s = (a + b + c) / 2\n",
        "    area = math.sqrt(s * (s - a) * (s - b) * (s - c))\n",
        "    return area\n",
        "\n",
        "lado1 = float(input(\"Ingrese la longitud del primer lado del triángulo: \"))\n",
        "lado2 = float(input(\"Ingrese la longitud del segundo lado del triángulo: \"))\n",
        "lado3 = float(input(\"Ingrese la longitud del tercer lado del triángulo: \"))\n",
        "\n",
        "area = calcular_area_triangulo(lado1, lado2, lado3)\n",
        "print(f\"El área del triángulo es: {area}\")\n"
      ],
      "metadata": {
        "colab": {
          "base_uri": "https://localhost:8080/"
        },
        "id": "JOZ_F5SSrkMO",
        "outputId": "d5b5b87f-dee0-4ca1-9db3-8760270bf68d"
      },
      "execution_count": 3,
      "outputs": [
        {
          "output_type": "stream",
          "name": "stdout",
          "text": [
            "Ingrese la longitud del primer lado del triángulo: 40\n",
            "Ingrese la longitud del segundo lado del triángulo: 20\n",
            "Ingrese la longitud del tercer lado del triángulo: 50\n",
            "El área del triángulo es: 379.9671038392666\n"
          ]
        }
      ]
    },
    {
      "cell_type": "markdown",
      "source": [
        "5.- función que sirva para validar un número dentro de un rango dado.\n",
        "\n",
        "\n",
        "\n"
      ],
      "metadata": {
        "id": "Y6aDITkIrki-"
      }
    },
    {
      "cell_type": "code",
      "source": [
        "def validar_numero_en_rango(numero, rango_min, rango_max):\n",
        "    return rango_min <= numero <= rango_max\n",
        "\n",
        "# Ejemplo de uso\n",
        "numero = float(input(\"Ingrese un número: \"))\n",
        "rango_min = 1\n",
        "rango_max = 100\n",
        "\n",
        "if validar_numero_en_rango(numero, rango_min, rango_max):\n",
        "    print(\"El número está dentro del rango.\")\n",
        "else:\n",
        "    print(\"El número está fuera del rango.\")\n"
      ],
      "metadata": {
        "id": "--azMk4brniX",
        "colab": {
          "base_uri": "https://localhost:8080/"
        },
        "outputId": "60ece01d-807f-499e-a50a-6f081ad1088b"
      },
      "execution_count": null,
      "outputs": [
        {
          "output_type": "stream",
          "name": "stdout",
          "text": [
            "Ingrese un número: 100\n",
            "El número está dentro del rango.\n"
          ]
        }
      ]
    }
  ]
}